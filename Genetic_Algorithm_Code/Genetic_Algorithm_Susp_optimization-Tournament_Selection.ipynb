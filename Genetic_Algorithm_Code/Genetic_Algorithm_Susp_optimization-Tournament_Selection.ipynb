{
 "cells": [
  {
   "cell_type": "code",
   "execution_count": 1,
   "metadata": {},
   "outputs": [],
   "source": [
    "import random\n",
    "import numpy as np\n",
    "import pandas as pd\n",
    "import math\n",
    "import matplotlib.pyplot as plt\n",
    "import os\n",
    "import keras\n",
    "import glob\n",
    "from sklearn.preprocessing import MinMaxScaler"
   ]
  },
  {
   "cell_type": "code",
   "execution_count": 2,
   "metadata": {},
   "outputs": [],
   "source": [
    "files=glob.glob(\"Population/*.xlsx\",recursive=True)\n",
    "population=[]\n",
    "for i in range(0, len(files)):\n",
    "    parent=pd.read_excel(files[i],header=None).values\n",
    "    population.append(parent)\n",
    "population=np.array(population,dtype=object)"
   ]
  },
  {
   "cell_type": "code",
   "execution_count": 3,
   "metadata": {},
   "outputs": [],
   "source": [
    "all_geometry = []\n",
    "all_results = []\n",
    "for i in range(0, population.shape[0]):\n",
    "    pop = pd.DataFrame(population[i])\n",
    "    pop = pop.drop(index=[20, 21], axis=0)\n",
    "    geometry = pop.iloc[14:22, 1:4].values\n",
    "    results = pop.iloc[82:96, 2:6].values\n",
    "    all_geometry.append(geometry)\n",
    "    all_results.append(results)\n",
    "all_geometry = np.array(all_geometry)\n",
    "all_results = np.array(all_results)"
   ]
  },
  {
   "cell_type": "code",
   "execution_count": 4,
   "metadata": {},
   "outputs": [
    {
     "data": {
      "text/plain": [
       "(38, 8, 3)"
      ]
     },
     "execution_count": 4,
     "metadata": {},
     "output_type": "execute_result"
    }
   ],
   "source": [
    "all_geometry.shape"
   ]
  },
  {
   "cell_type": "code",
   "execution_count": 5,
   "metadata": {},
   "outputs": [],
   "source": [
    "def fitness_function(pop,val):\n",
    "    fitness=[0]*pop.shape[0]\n",
    "\n",
    "    for i in range(pop.shape[0]):\n",
    "        \n",
    "        if (val[i][0][0][0]>=-2 and val[i][0][0][0]<=2) and (val[i][1][0][0]>=-2 and val[i][1][0][0]<=2):\n",
    "            camber_fitness=abs(val[i][1][0][0]-val[i][0][0][0])/5\n",
    "            fitness[i]+=camber_fitness\n",
    "        else:\n",
    "            fitness[i]=99999\n",
    "            continue\n",
    "            \n",
    "        if (val[i][0][0][1]>=-1 and val[i][0][0][1]<=1) and (val[i][1][0][1]>=-1 and val[i][1][0][1]<=1):\n",
    "            toe_fitness=abs(val[i][1][0][1]-val[i][0][0][1])/4\n",
    "            fitness[i]+=toe_fitness\n",
    "        else:\n",
    "            fitness[i]=99999\n",
    "            continue\n",
    "        \n",
    "        if (val[i][0][0][2]>=4 and val[i][0][0][2]<=9) and (val[i][1][0][2]>=4 and val[i][1][0][2]<=9):\n",
    "            fitness[i]+=abs(val[i][1][0][2]-val[i][0][0][2])/2\n",
    "        else:\n",
    "            fitness[i]=99999\n",
    "            continue\n",
    "            \n",
    "        if (val[i][0][0][3]>=3 and val[i][0][0][3]<=8) and (val[i][1][0][3]>=3 and val[i][1][0][3]<=8):\n",
    "            fitness[i]+=abs(val[i][1][0][3]-val[i][0][0][3])/2\n",
    "        else:\n",
    "            fitness[i]=99999\n",
    "            continue\n",
    "\n",
    "    return fitness"
   ]
  },
  {
   "cell_type": "code",
   "execution_count": 6,
   "metadata": {},
   "outputs": [],
   "source": [
    "#Use tournament selection"
   ]
  },
  {
   "cell_type": "code",
   "execution_count": 7,
   "metadata": {},
   "outputs": [],
   "source": [
    "def tournament_selection(sp,pop,no_parents,tn_size,fitness_val):\n",
    "    parents=np.empty([no_parents,pop.shape[1],pop.shape[2]])\n",
    "    fitness_val=[1/(x+1e-4) for x in fitness_val]\n",
    "    for i in range(no_parents):\n",
    "        prob_tnt=[0]*tn_size\n",
    "        select_index=random.sample([x for x in range(pop.shape[0])],tn_size)\n",
    "        select_pop=pop[select_index]\n",
    "        select_fitness=[fitness_val[x] for x in select_index]\n",
    "        \n",
    "        for j in range(tn_size):\n",
    "            max_fitness_idx=select_fitness.index(max(select_fitness))\n",
    "            prob_tnt[max_fitness_idx]=sp*((1-sp)**j)\n",
    "            select_fitness[max_fitness_idx]=-9999999\n",
    "            \n",
    "        prob_tnt[tn_size-1]=(1-sp)**(tn_size-1)\n",
    "        cdf=[prob_tnt[0]]\n",
    "        \n",
    "        for j in range(1,len(prob_tnt)):\n",
    "            cdf.append(cdf[-1]+prob_tnt[j])\n",
    "        \n",
    "        selected=random.choices(select_pop,weights=cdf,k=1)\n",
    "        parents[i]=np.array(selected[0])\n",
    "    \n",
    "    return parents"
   ]
  },
  {
   "cell_type": "code",
   "execution_count": 8,
   "metadata": {},
   "outputs": [],
   "source": [
    "def crossover(parent,no_offspring,alpha):\n",
    "    \n",
    "    offspring=np.empty([no_offspring,parent.shape[1],parent.shape[2]])\n",
    "    \n",
    "    for i in range(no_offspring):\n",
    "        parent1_index=i%parent.shape[0]\n",
    "        parent2_index=(i+1)%parent.shape[0]\n",
    "        n=random.random()\n",
    "        offspring[i]=n*parent[parent1_index]+(1-n)*parent[parent2_index]\n",
    "        \n",
    "    return offspring"
   ]
  },
  {
   "cell_type": "code",
   "execution_count": 9,
   "metadata": {},
   "outputs": [],
   "source": [
    "def mutation(offspring,mutation_rate):\n",
    "    \n",
    "    mutation=np.array(offspring,copy=True)\n",
    "        \n",
    "    for k in range(offspring.shape[0]):\n",
    "        m=random.random()\n",
    "        if m>mutation_rate:\n",
    "            continue\n",
    "            \n",
    "        for j in range(offspring.shape[1]):\n",
    "            for i in range(offspring.shape[2]):\n",
    "                sign=random.randint(0,1)\n",
    "                if sign==0:\n",
    "                    mutation[k][j][i]=mutation[k][j][i]+random.random()\n",
    "                else:\n",
    "                    mutation[k][j][i]=mutation[k][j][i]-random.random()\n",
    "\n",
    "    \n",
    "    return mutation"
   ]
  },
  {
   "cell_type": "code",
   "execution_count": 10,
   "metadata": {},
   "outputs": [],
   "source": [
    "def prepare_dataset(pop,model):\n",
    "    X_flat=pop.reshape((pop.shape[0], -1))\n",
    "    X=[]\n",
    "    X_final=[]\n",
    "    bump_val=[200,-60]\n",
    "        \n",
    "    for i in range(X_flat.shape[0]):\n",
    "        for j in range(len(bump_val)):\n",
    "            X.append(list(np.append(X_flat[i],bump_val[j])))\n",
    "        #X_final.append(X)\n",
    "        #X=[]\n",
    "            \n",
    "    X_final=np.array(X)\n",
    "        \n",
    "    train_df=pd.DataFrame(X_final)\n",
    "    scaler = MinMaxScaler(feature_range=(0,1))\n",
    "    scaled_train = scaler.fit_transform(train_df)\n",
    "    scaled_train_df = pd.DataFrame(scaled_train, columns=train_df.columns.values)\n",
    "        \n",
    "    val=[]\n",
    "    val_total=[]\n",
    "    X = scaled_train_df[scaled_train_df.columns[:25]].values\n",
    "    count=0\n",
    "    for i in range(X.shape[0]):\n",
    "        count+=1\n",
    "        val1=model.predict(X[i].reshape(1,X[i].shape[0]))\n",
    "        val.append(val1)\n",
    "        if count==2:\n",
    "            val_total.append(val)\n",
    "            val=[]\n",
    "            count=0\n",
    "    return val_total"
   ]
  },
  {
   "cell_type": "code",
   "execution_count": 11,
   "metadata": {},
   "outputs": [],
   "source": [
    "model=keras.models.load_model('GA_ANN_normal.h5')"
   ]
  },
  {
   "cell_type": "code",
   "execution_count": 12,
   "metadata": {},
   "outputs": [],
   "source": [
    "def optimization(pop,no_generation,no_parent,mutation_rate):\n",
    "    \n",
    "    for m in range(no_generation):\n",
    "\n",
    "        val_total=prepare_dataset(pop,model)\n",
    "        pop_size=38\n",
    "        no_offspring=pop_size-no_parent\n",
    "        fitness=fitness_function(pop,val_total)\n",
    "        parent=tournament_selection(0.9,pop,no_parent,10,fitness)\n",
    "        offspring=crossover(parent,no_offspring,0.7)\n",
    "        mutate=mutation(offspring,mutation_rate)\n",
    "        pop=np.concatenate((pop,mutate),axis=0)\n",
    "        \n",
    "    return pop,fitness"
   ]
  },
  {
   "cell_type": "code",
   "execution_count": 13,
   "metadata": {},
   "outputs": [],
   "source": [
    "pop,fitness=optimization(all_geometry,10,20,0.15)"
   ]
  },
  {
   "cell_type": "code",
   "execution_count": 14,
   "metadata": {},
   "outputs": [],
   "source": [
    "index=fitness.index(min(fitness))"
   ]
  },
  {
   "cell_type": "code",
   "execution_count": 15,
   "metadata": {},
   "outputs": [
    {
     "data": {
      "text/plain": [
       "122"
      ]
     },
     "execution_count": 15,
     "metadata": {},
     "output_type": "execute_result"
    }
   ],
   "source": [
    "index"
   ]
  },
  {
   "cell_type": "code",
   "execution_count": 16,
   "metadata": {},
   "outputs": [
    {
     "data": {
      "text/plain": [
       "0.11178777217864991"
      ]
     },
     "execution_count": 16,
     "metadata": {},
     "output_type": "execute_result"
    }
   ],
   "source": [
    "fitness[index]"
   ]
  },
  {
   "cell_type": "code",
   "execution_count": 17,
   "metadata": {},
   "outputs": [
    {
     "data": {
      "text/plain": [
       "array([[3938.9511577116646, -180.36989893032992, 485.0704631413058],\n",
       "       [4258.873010050327, -180.37836492697483, 455.09117227156014],\n",
       "       [4081.916121510165, -464.93033312176414, 262.12375698907385],\n",
       "       [3994.3200408175408, -185.38930559956202, 637.2126499538451],\n",
       "       [4312.104196881783, -185.41288014406547, 607.1540392078421],\n",
       "       [4098.369753897771, -453.9310494753264, 427.167063818065],\n",
       "       [4031.5481910578246, -469.7633531658885, 325.24569053271654],\n",
       "       [4000.7603654109002, -187.14352675183795, 536.371182652214]],\n",
       "      dtype=object)"
      ]
     },
     "execution_count": 17,
     "metadata": {},
     "output_type": "execute_result"
    }
   ],
   "source": [
    "pop[index]"
   ]
  },
  {
   "cell_type": "code",
   "execution_count": 18,
   "metadata": {},
   "outputs": [],
   "source": [
    "val_t=prepare_dataset(pop,model)"
   ]
  },
  {
   "cell_type": "code",
   "execution_count": 19,
   "metadata": {},
   "outputs": [
    {
     "data": {
      "text/plain": [
       "[array([[-0.7423985,  0.6332642,  5.762166 ,  4.4459825]], dtype=float32),\n",
       " array([[-0.58019245,  0.6067089 ,  5.7016554 ,  4.4432845 ]],\n",
       "       dtype=float32)]"
      ]
     },
     "execution_count": 19,
     "metadata": {},
     "output_type": "execute_result"
    }
   ],
   "source": [
    "val_t[index]"
   ]
  },
  {
   "cell_type": "code",
   "execution_count": 18,
   "metadata": {},
   "outputs": [
    {
     "data": {
      "text/plain": [
       "[2.038229966163635,\n",
       " 2.370081567764282,\n",
       " 99999,\n",
       " 99999,\n",
       " 1.8543353915214538,\n",
       " 2.0057116985321044,\n",
       " 2.031228005886078,\n",
       " 99999,\n",
       " 99999,\n",
       " 99999,\n",
       " 99999,\n",
       " 2.1076382756233216,\n",
       " 99999,\n",
       " 99999,\n",
       " 99999,\n",
       " 2.2249422907829284,\n",
       " 99999,\n",
       " 99999,\n",
       " 2.076913332939148,\n",
       " 0.48362255096435547,\n",
       " 0.3285659313201904,\n",
       " 0.34301109313964845,\n",
       " 0.3930901885032654,\n",
       " 0.28649147748947146,\n",
       " 0.5857954025268555,\n",
       " 0.6874512791633606,\n",
       " 99999,\n",
       " 2.038229966163635,\n",
       " 99999,\n",
       " 99999,\n",
       " 99999,\n",
       " 99999,\n",
       " 99999,\n",
       " 99999,\n",
       " 99999,\n",
       " 99999,\n",
       " 99999,\n",
       " 99999,\n",
       " 99999,\n",
       " 99999,\n",
       " 2.278417730331421,\n",
       " 99999,\n",
       " 0.2786427140235901,\n",
       " 0.26418629884719846,\n",
       " 0.277182137966156,\n",
       " 0.8472607016563416,\n",
       " 2.158041310310364,\n",
       " 99999,\n",
       " 1.528547465801239,\n",
       " 2.038229966163635,\n",
       " 99999,\n",
       " 99999,\n",
       " 99999,\n",
       " 0.27498801946640017,\n",
       " 0.6647030591964722,\n",
       " 0.4137355089187622,\n",
       " 0.19202263355255128,\n",
       " 0.6694063901901245,\n",
       " 99999,\n",
       " 99999,\n",
       " 99999,\n",
       " 0.5921844124794007,\n",
       " 0.22893519401550294,\n",
       " 2.349209415912628,\n",
       " 2.0397318482398985,\n",
       " 1.471735429763794,\n",
       " 1.0536060452461242,\n",
       " 99999,\n",
       " 99999,\n",
       " 99999,\n",
       " 99999,\n",
       " 0.28221458196640015,\n",
       " 0.35334988832473757,\n",
       " 99999,\n",
       " 99999,\n",
       " 99999,\n",
       " 99999,\n",
       " 99999,\n",
       " 1.9931878209114076,\n",
       " 99999,\n",
       " 99999,\n",
       " 0.3708518028259277,\n",
       " 99999,\n",
       " 2.0526294708251953,\n",
       " 99999,\n",
       " 99999,\n",
       " 99999,\n",
       " 99999,\n",
       " 99999,\n",
       " 99999,\n",
       " 99999,\n",
       " 99999,\n",
       " 1.2352964520454406,\n",
       " 1.4683541774749755,\n",
       " 0.36864163875579836,\n",
       " 0.5485721945762634,\n",
       " 99999,\n",
       " 99999,\n",
       " 99999,\n",
       " 2.327043294906616,\n",
       " 1.417333722114563,\n",
       " 1.119031512737274,\n",
       " 99999,\n",
       " 99999,\n",
       " 99999,\n",
       " 0.353551459312439,\n",
       " 99999,\n",
       " 99999,\n",
       " 0.7518871188163757,\n",
       " 0.24552972316741944,\n",
       " 99999,\n",
       " 99999,\n",
       " 99999,\n",
       " 1.528547465801239,\n",
       " 99999,\n",
       " 2.13291015625,\n",
       " 0.2901317000389099,\n",
       " 0.25285676717758176,\n",
       " 0.5120207309722901,\n",
       " 99999,\n",
       " 1.9574182868003844,\n",
       " 99999,\n",
       " 99999,\n",
       " 99999,\n",
       " 99999,\n",
       " 99999,\n",
       " 1.4440470814704895,\n",
       " 1.0102338910102844,\n",
       " 99999,\n",
       " 0.4783693432807922,\n",
       " 0.6078334212303161,\n",
       " 2.2578160405158996,\n",
       " 2.1340963363647463,\n",
       " 0.2984204888343811,\n",
       " 0.8758366703987122,\n",
       " 99999,\n",
       " 99999,\n",
       " 1.1784496068954469,\n",
       " 0.5327239632606506,\n",
       " 99999,\n",
       " 99999,\n",
       " 99999,\n",
       " 2.7995665788650514,\n",
       " 99999,\n",
       " 99999,\n",
       " 99999,\n",
       " 0.53096923828125,\n",
       " 0.39230278730392454,\n",
       " 1.1026461482048036,\n",
       " 99999,\n",
       " 99999,\n",
       " 99999,\n",
       " 2.293536138534546,\n",
       " 99999,\n",
       " 99999,\n",
       " 99999,\n",
       " 2.0633968353271483,\n",
       " 2.649962592124939,\n",
       " 0.47934157848358155,\n",
       " 0.5120207309722901,\n",
       " 99999,\n",
       " 99999,\n",
       " 99999,\n",
       " 1.8633081912994385,\n",
       " 0.8893495321273803,\n",
       " 99999,\n",
       " 99999,\n",
       " 0.348614764213562,\n",
       " 99999,\n",
       " 99999,\n",
       " 99999,\n",
       " 1.7960214853286742,\n",
       " 1.2797007083892822,\n",
       " 0.6979682564735412,\n",
       " 99999,\n",
       " 1.9928400278091432,\n",
       " 0.5574644207954407,\n",
       " 99999,\n",
       " 99999,\n",
       " 0.16170127391815187,\n",
       " 0.24104034900665283,\n",
       " 2.1099708437919618,\n",
       " 1.6819978952407837,\n",
       " 1.4964065313339234,\n",
       " 99999,\n",
       " 99999,\n",
       " 99999,\n",
       " 99999,\n",
       " 99999,\n",
       " 99999,\n",
       " 99999,\n",
       " 99999,\n",
       " 99999,\n",
       " 0.1511134147644043,\n",
       " 0.1941740870475769,\n",
       " 1.4903143882751464,\n",
       " 99999,\n",
       " 99999,\n",
       " 0.3767837047576904,\n",
       " 0.3099498271942139]"
      ]
     },
     "execution_count": 18,
     "metadata": {},
     "output_type": "execute_result"
    }
   ],
   "source": [
    "fitness"
   ]
  },
  {
   "cell_type": "code",
   "execution_count": null,
   "metadata": {},
   "outputs": [],
   "source": []
  },
  {
   "cell_type": "code",
   "execution_count": null,
   "metadata": {},
   "outputs": [],
   "source": []
  }
 ],
 "metadata": {
  "kernelspec": {
   "display_name": "Python 3",
   "language": "python",
   "name": "python3"
  },
  "language_info": {
   "codemirror_mode": {
    "name": "ipython",
    "version": 3
   },
   "file_extension": ".py",
   "mimetype": "text/x-python",
   "name": "python",
   "nbconvert_exporter": "python",
   "pygments_lexer": "ipython3",
   "version": "3.8.5"
  }
 },
 "nbformat": 4,
 "nbformat_minor": 4
}
