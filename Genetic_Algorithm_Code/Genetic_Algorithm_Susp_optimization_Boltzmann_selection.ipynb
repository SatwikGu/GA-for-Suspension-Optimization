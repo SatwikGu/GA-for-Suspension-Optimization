{
 "cells": [
  {
   "cell_type": "code",
   "execution_count": 1,
   "metadata": {},
   "outputs": [],
   "source": [
    "import random\n",
    "import numpy as np\n",
    "import pandas as pd\n",
    "import math\n",
    "import matplotlib.pyplot as plt\n",
    "import os\n",
    "import keras\n",
    "import glob\n",
    "from sklearn.preprocessing import MinMaxScaler"
   ]
  },
  {
   "cell_type": "code",
   "execution_count": 2,
   "metadata": {},
   "outputs": [],
   "source": [
    "files=glob.glob(\"Population/*.xlsx\",recursive=True)\n",
    "population=[]\n",
    "for i in range(0, len(files)):\n",
    "    parent=pd.read_excel(files[i],header=None).values\n",
    "    population.append(parent)\n",
    "population=np.array(population,dtype=object)"
   ]
  },
  {
   "cell_type": "code",
   "execution_count": 3,
   "metadata": {},
   "outputs": [],
   "source": [
    "all_geometry = []\n",
    "all_results = []\n",
    "for i in range(0, population.shape[0]):\n",
    "    pop = pd.DataFrame(population[i])\n",
    "    pop = pop.drop(index=[20, 21], axis=0)\n",
    "    geometry = pop.iloc[14:22, 1:4].values\n",
    "    results = pop.iloc[82:96, 2:6].values\n",
    "    all_geometry.append(geometry)\n",
    "    all_results.append(results)\n",
    "all_geometry = np.array(all_geometry)\n",
    "all_results = np.array(all_results)"
   ]
  },
  {
   "cell_type": "code",
   "execution_count": 4,
   "metadata": {},
   "outputs": [
    {
     "data": {
      "text/plain": [
       "(38, 8, 3)"
      ]
     },
     "execution_count": 4,
     "metadata": {},
     "output_type": "execute_result"
    }
   ],
   "source": [
    "all_geometry.shape"
   ]
  },
  {
   "cell_type": "code",
   "execution_count": 5,
   "metadata": {},
   "outputs": [],
   "source": [
    "def fitness_function(pop,val):\n",
    "    fitness=[0]*pop.shape[0]\n",
    "\n",
    "    for i in range(pop.shape[0]):\n",
    "        \n",
    "        if (val[i][0][0][0]>=-2 and val[i][0][0][0]<=2) and (val[i][1][0][0]>=-2 and val[i][1][0][0]<=2):\n",
    "            camber_fitness=abs(val[i][1][0][0]-val[i][0][0][0])/5\n",
    "            fitness[i]+=camber_fitness\n",
    "        else:\n",
    "            fitness[i]=99999\n",
    "            continue\n",
    "            \n",
    "        if (val[i][0][0][1]>=-1 and val[i][0][0][1]<=1) and (val[i][1][0][1]>=-1 and val[i][1][0][1]<=1):\n",
    "            toe_fitness=abs(val[i][1][0][1]-val[i][0][0][1])/4\n",
    "            fitness[i]+=toe_fitness\n",
    "        else:\n",
    "            fitness[i]=99999\n",
    "            continue\n",
    "        \n",
    "        if (val[i][0][0][2]>=4 and val[i][0][0][2]<=9) and (val[i][1][0][2]>=4 and val[i][1][0][2]<=9):\n",
    "            fitness[i]+=abs(val[i][1][0][2]-val[i][0][0][2])/2\n",
    "        else:\n",
    "            fitness[i]=99999\n",
    "            continue\n",
    "            \n",
    "        if (val[i][0][0][3]>=3 and val[i][0][0][3]<=8) and (val[i][1][0][3]>=3 and val[i][1][0][3]<=8):\n",
    "            fitness[i]+=abs(val[i][1][0][3]-val[i][0][0][3])/2\n",
    "        else:\n",
    "            fitness[i]=99999\n",
    "            continue\n",
    "\n",
    "    return fitness"
   ]
  },
  {
   "cell_type": "code",
   "execution_count": 6,
   "metadata": {},
   "outputs": [],
   "source": [
    "#Use tournament selection"
   ]
  },
  {
   "cell_type": "code",
   "execution_count": 7,
   "metadata": {},
   "outputs": [],
   "source": [
    "def boltzmann_selection(alpha,current_gen,total_gen,To,fitness,no_parents,pop):\n",
    "    \n",
    "    fitness=[1/(x+1e-4) for x in fitness]\n",
    "    k=1+100*(current_gen/total_gen)\n",
    "    parents=np.empty([no_parents,pop.shape[1],pop.shape[2]])\n",
    "    T=To*((1-alpha)**k)\n",
    "    fmax=max(fitness)\n",
    "    prob_bs=[0]*pop.shape[0]\n",
    "    \n",
    "    for i in range(pop.shape[0]):\n",
    "        prob_bs[i]=math.exp(-(fmax-fitness[i])/T)\n",
    "    \n",
    "    cdf=[prob_bs[0]]\n",
    "    for j in range(1,pop.shape[0]):\n",
    "        cdf.append(cdf[-1]+prob_bs[i])\n",
    "        \n",
    "    for i in range(1,no_parents):\n",
    "        selected=random.choices(pop,weights=cdf,k=1)\n",
    "        parents[i]=selected[0]\n",
    "        \n",
    "    return parents"
   ]
  },
  {
   "cell_type": "code",
   "execution_count": 8,
   "metadata": {},
   "outputs": [],
   "source": [
    "def crossover(parent,no_offspring,alpha):\n",
    "    \n",
    "    offspring=np.empty([no_offspring,parent.shape[1],parent.shape[2]])\n",
    "    \n",
    "    for i in range(no_offspring):\n",
    "        parent1_index=i%parent.shape[0]\n",
    "        parent2_index=(i+1)%parent.shape[0]\n",
    "        n=random.random()\n",
    "        offspring[i]=n*parent[parent1_index]+(1-n)*parent[parent2_index]\n",
    "        \n",
    "    return offspring"
   ]
  },
  {
   "cell_type": "code",
   "execution_count": 9,
   "metadata": {},
   "outputs": [],
   "source": [
    "def mutation(offspring,mutation_rate):\n",
    "    \n",
    "    mutation=np.array(offspring,copy=True)\n",
    "        \n",
    "    for k in range(offspring.shape[0]):\n",
    "        m=random.random()\n",
    "        if m>mutation_rate:\n",
    "            continue\n",
    "            \n",
    "        for j in range(offspring.shape[1]):\n",
    "            for i in range(offspring.shape[2]):\n",
    "                sign=random.randint(0,1)\n",
    "                if sign==0:\n",
    "                    mutation[k][j][i]=mutation[k][j][i]+random.random()\n",
    "                else:\n",
    "                    mutation[k][j][i]=mutation[k][j][i]-random.random()\n",
    "\n",
    "    \n",
    "    return mutation"
   ]
  },
  {
   "cell_type": "code",
   "execution_count": 10,
   "metadata": {},
   "outputs": [],
   "source": [
    "def prepare_dataset(pop,model):\n",
    "    X_flat=pop.reshape((pop.shape[0], -1))\n",
    "    X=[]\n",
    "    X_final=[]\n",
    "    bump_val=[200,-60]\n",
    "        \n",
    "    for i in range(X_flat.shape[0]):\n",
    "        for j in range(len(bump_val)):\n",
    "            X.append(list(np.append(X_flat[i],bump_val[j])))\n",
    "        #X_final.append(X)\n",
    "        #X=[]\n",
    "            \n",
    "    X_final=np.array(X)\n",
    "        \n",
    "    train_df=pd.DataFrame(X_final)\n",
    "    scaler = MinMaxScaler(feature_range=(0,1))\n",
    "    scaled_train = scaler.fit_transform(train_df)\n",
    "    scaled_train_df = pd.DataFrame(scaled_train, columns=train_df.columns.values)\n",
    "        \n",
    "    val=[]\n",
    "    val_total=[]\n",
    "    X = scaled_train_df[scaled_train_df.columns[:25]].values\n",
    "    count=0\n",
    "    for i in range(X.shape[0]):\n",
    "        count+=1\n",
    "        val1=model.predict(X[i].reshape(1,X[i].shape[0]))\n",
    "        val.append(val1)\n",
    "        if count==2:\n",
    "            val_total.append(val)\n",
    "            val=[]\n",
    "            count=0\n",
    "    return val_total"
   ]
  },
  {
   "cell_type": "code",
   "execution_count": 11,
   "metadata": {},
   "outputs": [],
   "source": [
    "model=keras.models.load_model('GA_ANN_normal.h5')"
   ]
  },
  {
   "cell_type": "code",
   "execution_count": 12,
   "metadata": {},
   "outputs": [],
   "source": [
    "def optimization(pop,no_generation,no_parent,mutation_rate):\n",
    "    \n",
    "    for m in range(no_generation):\n",
    "\n",
    "        val_total=prepare_dataset(pop,model)\n",
    "        pop_size=38\n",
    "        no_offspring=pop_size-no_parent\n",
    "        fitness=fitness_function(pop,val_total)\n",
    "        parent=boltzmann_selection(0.6,m,no_generation,10,fitness,no_parent,pop)\n",
    "        offspring=crossover(parent,no_offspring,0.7)\n",
    "        mutate=mutation(offspring,mutation_rate)\n",
    "        pop=np.concatenate((pop,mutate),axis=0)\n",
    "        \n",
    "    return pop,fitness"
   ]
  },
  {
   "cell_type": "code",
   "execution_count": 13,
   "metadata": {},
   "outputs": [],
   "source": [
    "pop,fitness=optimization(all_geometry,10,20,0.15)"
   ]
  },
  {
   "cell_type": "code",
   "execution_count": 14,
   "metadata": {},
   "outputs": [],
   "source": [
    "index=fitness.index(min(fitness))"
   ]
  },
  {
   "cell_type": "code",
   "execution_count": 15,
   "metadata": {},
   "outputs": [
    {
     "data": {
      "text/plain": [
       "0"
      ]
     },
     "execution_count": 15,
     "metadata": {},
     "output_type": "execute_result"
    }
   ],
   "source": [
    "index"
   ]
  },
  {
   "cell_type": "code",
   "execution_count": 16,
   "metadata": {},
   "outputs": [
    {
     "data": {
      "text/plain": [
       "99999"
      ]
     },
     "execution_count": 16,
     "metadata": {},
     "output_type": "execute_result"
    }
   ],
   "source": [
    "fitness[index]"
   ]
  },
  {
   "cell_type": "code",
   "execution_count": 17,
   "metadata": {},
   "outputs": [
    {
     "data": {
      "text/plain": [
       "array([[3939, -180, 485],\n",
       "       [4259, -180, 455],\n",
       "       [4082, -464.5, 255],\n",
       "       [4072.5, -185, 630],\n",
       "       [4312, -185, 600],\n",
       "       [4098.5, -453.5, 420],\n",
       "       [4031.5, -490.5, 311],\n",
       "       [4050.5, -208, 522]], dtype=object)"
      ]
     },
     "execution_count": 17,
     "metadata": {},
     "output_type": "execute_result"
    }
   ],
   "source": [
    "pop[index]"
   ]
  },
  {
   "cell_type": "code",
   "execution_count": 19,
   "metadata": {},
   "outputs": [],
   "source": [
    "val_t=prepare_dataset(pop,model)"
   ]
  },
  {
   "cell_type": "code",
   "execution_count": 25,
   "metadata": {},
   "outputs": [
    {
     "data": {
      "text/plain": [
       "[array([[-0.37644005,  4.6495376 ,  4.3686037 ,  5.3890967 ]],\n",
       "       dtype=float32),\n",
       " array([[-0.07600115,  2.392653  ,  5.006789  ,  6.292094  ]],\n",
       "       dtype=float32)]"
      ]
     },
     "execution_count": 25,
     "metadata": {},
     "output_type": "execute_result"
    }
   ],
   "source": [
    "val_t[4]"
   ]
  },
  {
   "cell_type": "code",
   "execution_count": 17,
   "metadata": {},
   "outputs": [
    {
     "data": {
      "text/plain": [
       "[99999,\n",
       " 99999,\n",
       " 99999,\n",
       " 99999,\n",
       " 99999,\n",
       " 99999,\n",
       " 99999,\n",
       " 99999,\n",
       " 99999,\n",
       " 99999,\n",
       " 99999,\n",
       " 99999,\n",
       " 99999,\n",
       " 99999,\n",
       " 99999,\n",
       " 99999,\n",
       " 99999,\n",
       " 99999,\n",
       " 99999,\n",
       " 99999,\n",
       " 99999,\n",
       " 99999,\n",
       " 99999,\n",
       " 99999,\n",
       " 99999,\n",
       " 99999,\n",
       " 99999,\n",
       " 99999,\n",
       " 99999,\n",
       " 99999,\n",
       " 99999,\n",
       " 99999,\n",
       " 99999,\n",
       " 99999,\n",
       " 99999,\n",
       " 99999,\n",
       " 99999,\n",
       " 99999,\n",
       " 99999,\n",
       " 99999,\n",
       " 99999,\n",
       " 99999,\n",
       " 99999,\n",
       " 99999,\n",
       " 99999,\n",
       " 99999,\n",
       " 99999,\n",
       " 99999,\n",
       " 99999,\n",
       " 99999,\n",
       " 99999,\n",
       " 99999,\n",
       " 99999,\n",
       " 99999,\n",
       " 99999,\n",
       " 99999,\n",
       " 99999,\n",
       " 99999,\n",
       " 99999,\n",
       " 99999,\n",
       " 99999,\n",
       " 99999,\n",
       " 99999,\n",
       " 99999,\n",
       " 99999,\n",
       " 99999,\n",
       " 99999,\n",
       " 99999,\n",
       " 99999,\n",
       " 99999,\n",
       " 99999,\n",
       " 99999,\n",
       " 99999,\n",
       " 99999,\n",
       " 99999,\n",
       " 99999,\n",
       " 99999,\n",
       " 99999,\n",
       " 99999,\n",
       " 99999,\n",
       " 99999,\n",
       " 99999,\n",
       " 99999,\n",
       " 99999,\n",
       " 99999,\n",
       " 99999,\n",
       " 99999,\n",
       " 99999,\n",
       " 99999,\n",
       " 99999,\n",
       " 99999,\n",
       " 99999,\n",
       " 99999,\n",
       " 99999,\n",
       " 99999,\n",
       " 99999,\n",
       " 99999,\n",
       " 99999,\n",
       " 99999,\n",
       " 99999,\n",
       " 99999,\n",
       " 99999,\n",
       " 99999,\n",
       " 99999,\n",
       " 99999,\n",
       " 99999,\n",
       " 99999,\n",
       " 99999,\n",
       " 99999,\n",
       " 99999,\n",
       " 99999,\n",
       " 99999,\n",
       " 99999,\n",
       " 99999,\n",
       " 99999,\n",
       " 99999,\n",
       " 99999,\n",
       " 99999,\n",
       " 99999,\n",
       " 99999,\n",
       " 99999,\n",
       " 99999,\n",
       " 99999,\n",
       " 99999,\n",
       " 99999,\n",
       " 99999,\n",
       " 99999,\n",
       " 99999,\n",
       " 99999,\n",
       " 99999,\n",
       " 99999,\n",
       " 99999,\n",
       " 99999,\n",
       " 99999,\n",
       " 99999,\n",
       " 99999,\n",
       " 99999,\n",
       " 99999,\n",
       " 99999,\n",
       " 99999,\n",
       " 99999,\n",
       " 99999,\n",
       " 99999,\n",
       " 99999,\n",
       " 99999,\n",
       " 99999,\n",
       " 99999,\n",
       " 99999,\n",
       " 99999,\n",
       " 99999,\n",
       " 99999,\n",
       " 99999,\n",
       " 99999,\n",
       " 99999,\n",
       " 99999,\n",
       " 99999,\n",
       " 99999,\n",
       " 99999,\n",
       " 99999,\n",
       " 99999,\n",
       " 99999,\n",
       " 99999,\n",
       " 99999,\n",
       " 99999,\n",
       " 99999,\n",
       " 99999,\n",
       " 99999,\n",
       " 99999,\n",
       " 99999,\n",
       " 99999,\n",
       " 99999,\n",
       " 99999,\n",
       " 99999,\n",
       " 99999,\n",
       " 99999,\n",
       " 99999,\n",
       " 99999,\n",
       " 99999,\n",
       " 99999,\n",
       " 99999,\n",
       " 99999,\n",
       " 99999,\n",
       " 99999,\n",
       " 99999,\n",
       " 99999,\n",
       " 99999,\n",
       " 99999,\n",
       " 99999,\n",
       " 99999,\n",
       " 99999,\n",
       " 99999,\n",
       " 99999,\n",
       " 99999,\n",
       " 99999,\n",
       " 99999,\n",
       " 99999,\n",
       " 99999,\n",
       " 99999,\n",
       " 99999,\n",
       " 99999]"
      ]
     },
     "execution_count": 17,
     "metadata": {},
     "output_type": "execute_result"
    }
   ],
   "source": [
    "fitness"
   ]
  },
  {
   "cell_type": "code",
   "execution_count": 26,
   "metadata": {},
   "outputs": [
    {
     "data": {
      "text/plain": [
       "array([[[3939, -180, 485],\n",
       "        [4259, -180, 455],\n",
       "        [4082, -464.5, 255],\n",
       "        ...,\n",
       "        [4098.5, -453.5, 420],\n",
       "        [4031.5, -490.5, 311],\n",
       "        [4050.5, -208, 522]],\n",
       "\n",
       "       [[3940, -181, 485],\n",
       "        [4259, -181, 455],\n",
       "        [4080, -464.5, 255],\n",
       "        ...,\n",
       "        [4098.5, -453.5, 420],\n",
       "        [4031.5, -490.5, 311],\n",
       "        [4050.5, -208, 522]],\n",
       "\n",
       "       [[3945, -181, 485],\n",
       "        [4266, -181, 460],\n",
       "        [4084, -464.5, 255],\n",
       "        ...,\n",
       "        [4098.5, -453.5, 400],\n",
       "        [4031.5, -490.5, 315],\n",
       "        [4050.5, -210, 522]],\n",
       "\n",
       "       ...,\n",
       "\n",
       "       [[3941.225668858413, -195.5618663964852, 485.51165560147365],\n",
       "        [4258.793923126017, -195.60126942235223, 455.87012894912004],\n",
       "        [4081.7823186131536, -480.34723840283266, 257.87333562323],\n",
       "        ...,\n",
       "        [4098.2146128545155, -469.2857033696715, 422.88776276108365],\n",
       "        [4031.6313434195563, -503.62048966133153, 312.9345901197157],\n",
       "        [4038.0443371997544, -220.7154420235684, 523.7251423289499]],\n",
       "\n",
       "       [[3947.8812851867315, -210.06923141384755, 491.2736360493109],\n",
       "        [4259.0, -210.48070938298454, 459.7103454581173],\n",
       "        [4076.660212243711, -499.85792513210686, 260.44951521472564],\n",
       "        ...,\n",
       "        [4093.1304943903842, -488.25294040823485, 425.82670335310115],\n",
       "        [4032.8715932304563, -520.6606709625446, 326.92094488399624],\n",
       "        [4002.403048385202, -229.05273459515055, 547.1378133089477]],\n",
       "\n",
       "       [[3950.324451844781, -230.1100772492847, 491.4444218156665],\n",
       "        [4258.697832939297, -230.54132624099162, 460.55114349101683],\n",
       "        [4076.834223735822, -519.8287322474933, 264.1593102869249],\n",
       "        ...,\n",
       "        [4093.207974868836, -508.1893974021516, 429.5228148036348],\n",
       "        [4032.9374966390233, -537.1133215275307, 328.2871098625478],\n",
       "        [3988.5818549821797, -245.75269881425785, 547.3455791081678]]],\n",
       "      dtype=object)"
      ]
     },
     "execution_count": 26,
     "metadata": {},
     "output_type": "execute_result"
    }
   ],
   "source": [
    "pop"
   ]
  },
  {
   "cell_type": "code",
   "execution_count": null,
   "metadata": {},
   "outputs": [],
   "source": []
  }
 ],
 "metadata": {
  "kernelspec": {
   "display_name": "Python 3",
   "language": "python",
   "name": "python3"
  },
  "language_info": {
   "codemirror_mode": {
    "name": "ipython",
    "version": 3
   },
   "file_extension": ".py",
   "mimetype": "text/x-python",
   "name": "python",
   "nbconvert_exporter": "python",
   "pygments_lexer": "ipython3",
   "version": "3.8.5"
  }
 },
 "nbformat": 4,
 "nbformat_minor": 4
}
