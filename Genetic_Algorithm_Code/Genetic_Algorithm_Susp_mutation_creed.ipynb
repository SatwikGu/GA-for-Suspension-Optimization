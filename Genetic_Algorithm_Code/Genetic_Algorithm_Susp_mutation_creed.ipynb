{
 "cells": [
  {
   "cell_type": "code",
   "execution_count": 1,
   "metadata": {},
   "outputs": [],
   "source": [
    "import random\n",
    "import numpy as np\n",
    "import pandas as pd\n",
    "import math\n",
    "import matplotlib.pyplot as plt\n",
    "import os\n",
    "import keras\n",
    "import glob\n",
    "from sklearn.preprocessing import MinMaxScaler"
   ]
  },
  {
   "cell_type": "code",
   "execution_count": 2,
   "metadata": {},
   "outputs": [],
   "source": [
    "files=glob.glob(\"GA Population/*.xlsx\",recursive=True)\n",
    "population=[]\n",
    "for i in range(0, len(files)):\n",
    "    parent=pd.read_excel(files[i],header=None).values\n",
    "    population.append(parent)\n",
    "population=np.array(population,dtype=object)"
   ]
  },
  {
   "cell_type": "code",
   "execution_count": 3,
   "metadata": {},
   "outputs": [],
   "source": [
    "all_geometry = []\n",
    "all_results = []\n",
    "for i in range(0, population.shape[0]):\n",
    "    pop = pd.DataFrame(population[i])\n",
    "    pop = pop.drop(index=[20, 21], axis=0)\n",
    "    geometry = pop.iloc[14:22, 1:4].values\n",
    "    results = pop.iloc[82:96, 2:6].values\n",
    "    all_geometry.append(geometry)\n",
    "    all_results.append(results)\n",
    "all_geometry = np.array(all_geometry)\n",
    "all_results = np.array(all_results)"
   ]
  },
  {
   "cell_type": "code",
   "execution_count": 4,
   "metadata": {},
   "outputs": [
    {
     "data": {
      "text/plain": [
       "1"
      ]
     },
     "execution_count": 4,
     "metadata": {},
     "output_type": "execute_result"
    }
   ],
   "source": [
    "3%2"
   ]
  },
  {
   "cell_type": "code",
   "execution_count": 5,
   "metadata": {},
   "outputs": [],
   "source": [
    "def fitness_function(pop,val):\n",
    "    fitness=[0]*pop.shape[0]\n",
    "\n",
    "    for i in range(pop.shape[0]):\n",
    "        \n",
    "        if (val[i][0][0][0]>=-2 and val[i][0][0][0]<=2) and (val[i][1][0][0]>=-2 and val[i][1][0][0]<=2):\n",
    "            camber_fitness=abs(val[i][1][0][0]-val[i][0][0][0])/5\n",
    "            fitness[i]+=camber_fitness\n",
    "        else:\n",
    "            fitness[i]=99999\n",
    "            continue\n",
    "            \n",
    "        if (val[i][0][0][1]>=-1 and val[i][0][0][1]<=1) and (val[i][1][0][1]>=-1 and val[i][1][0][1]<=1):\n",
    "            toe_fitness=abs(val[i][1][0][1]-val[i][0][0][1])/4\n",
    "            fitness[i]+=toe_fitness\n",
    "        else:\n",
    "            fitness[i]=99999\n",
    "            continue\n",
    "        \n",
    "        if (val[i][0][0][2]>=4 and val[i][0][0][2]<=9) and (val[i][1][0][2]>=4 and val[i][1][0][2]<=9):\n",
    "            fitness[i]+=abs(val[i][1][0][2]-val[i][0][0][2])/2\n",
    "        else:\n",
    "            fitness[i]=99999\n",
    "            continue\n",
    "            \n",
    "        if (val[i][0][0][3]>=3 and val[i][0][0][3]<=8) and (val[i][1][0][3]>=3 and val[i][1][0][3]<=8):\n",
    "            fitness[i]+=abs(val[i][1][0][3]-val[i][0][0][3])/2\n",
    "        else:\n",
    "            fitness[i]=99999\n",
    "            continue\n",
    "\n",
    "    return fitness"
   ]
  },
  {
   "cell_type": "code",
   "execution_count": 6,
   "metadata": {},
   "outputs": [],
   "source": [
    "#Use tournament selection"
   ]
  },
  {
   "cell_type": "code",
   "execution_count": 7,
   "metadata": {},
   "outputs": [],
   "source": [
    "def roulette_selection(population,no_parents,fitness):\n",
    "    # Roulette_wheel_selection \n",
    "    previous_prob=0\n",
    "    fitness=[1/(x+1e-4) for x in fitness]\n",
    "    prob_sel=[x/sum(fitness) for x in fitness]\n",
    "    prob=[]\n",
    "    parents=np.empty([no_parents,population.shape[1],population.shape[2]])\n",
    "    for i in range(len(prob_sel)):\n",
    "        previous_prob=previous_prob+prob_sel[i]\n",
    "        prob.append(previous_prob)\n",
    "    \n",
    "    for i in range(no_parents):\n",
    "        n=random.random()\n",
    "        for j in range(len(prob)):\n",
    "            if n<prob[j]:\n",
    "                parents[i]=population[j]\n",
    "                break\n",
    "        \n",
    "    return parents"
   ]
  },
  {
   "cell_type": "code",
   "execution_count": 8,
   "metadata": {},
   "outputs": [],
   "source": [
    "def sus_selection(population,no_parents,fitness):\n",
    "    pass"
   ]
  },
  {
   "cell_type": "code",
   "execution_count": 9,
   "metadata": {},
   "outputs": [],
   "source": [
    "def crossover(parent,no_offspring,alpha):\n",
    "    \n",
    "    offspring=np.empty([no_offspring,parent.shape[1],parent.shape[2]])\n",
    "    \n",
    "    for i in range(no_offspring):\n",
    "        parent1_index=i%parent.shape[0]\n",
    "        parent2_index=(i+1)%parent.shape[0]\n",
    "        n=random.random()\n",
    "        offspring[i]=n*parent[parent1_index]+(1-n)*parent[parent2_index]\n",
    "        \n",
    "    return offspring"
   ]
  },
  {
   "cell_type": "code",
   "execution_count": 15,
   "metadata": {},
   "outputs": [],
   "source": [
    "# creed mutation\n",
    "def mutation(offspring,mutation_rate):\n",
    "    \n",
    "    mutation=np.array(offspring,copy=True)\n",
    "        \n",
    "    if random.randint(1,5)%4 == 0 :\n",
    "        k = random.randint(0,offspring.shape[0]-1)\n",
    "        j = random.randint(0,offspring.shape[1]-1)\n",
    "        i = random.randint(0,offspring.shape[2]-1)\n",
    "        mutation[k][j][i]=random.randint(int(all_geometry[:,j,i].min()),int(all_geometry[:,j,i].max()))+random.random()\n",
    "\n",
    "    \n",
    "    return mutation"
   ]
  },
  {
   "cell_type": "code",
   "execution_count": 16,
   "metadata": {},
   "outputs": [],
   "source": [
    "def prepare_dataset(pop,model):\n",
    "    X_flat=pop.reshape((pop.shape[0], -1))\n",
    "    X=[]\n",
    "    X_final=[]\n",
    "    bump_val=[200,-60]\n",
    "        \n",
    "    for i in range(X_flat.shape[0]):\n",
    "        for j in range(len(bump_val)):\n",
    "            X.append(list(np.append(X_flat[i],bump_val[j])))\n",
    "        #X_final.append(X)\n",
    "        #X=[]\n",
    "            \n",
    "    X_final=np.array(X)\n",
    "        \n",
    "    train_df=pd.DataFrame(X_final)\n",
    "    scaler = MinMaxScaler(feature_range=(0,1))\n",
    "    scaled_train = scaler.fit_transform(train_df)\n",
    "    scaled_train_df = pd.DataFrame(scaled_train, columns=train_df.columns.values)\n",
    "        \n",
    "    val=[]\n",
    "    val_total=[]\n",
    "    X = scaled_train_df[scaled_train_df.columns[:25]].values\n",
    "    count=0\n",
    "    for i in range(X.shape[0]):\n",
    "        count+=1\n",
    "        val1=model.predict(X[i].reshape(1,X[i].shape[0]))\n",
    "        val.append(val1)\n",
    "        if count==2:\n",
    "            val_total.append(val)\n",
    "            val=[]\n",
    "            count=0\n",
    "    return val_total"
   ]
  },
  {
   "cell_type": "code",
   "execution_count": 17,
   "metadata": {},
   "outputs": [],
   "source": [
    "model=keras.models.load_model('GA_ANN_normal.h5')"
   ]
  },
  {
   "cell_type": "code",
   "execution_count": 18,
   "metadata": {},
   "outputs": [],
   "source": [
    "def optimization(pop,no_generation,no_parent,mutation_rate):\n",
    "    \n",
    "    for m in range(no_generation):\n",
    "\n",
    "        val_total=prepare_dataset(pop,model)\n",
    "        pop_size=38\n",
    "        no_offspring=pop_size-no_parent\n",
    "        fitness=fitness_function(pop,val_total)\n",
    "        parent=roulette_selection(pop,no_parent,fitness)\n",
    "        offspring=crossover(parent,no_offspring,0.7)\n",
    "        mutate=mutation(offspring,mutation_rate)\n",
    "        pop=np.concatenate((pop,mutate),axis=0)\n",
    "        \n",
    "    return pop,fitness"
   ]
  },
  {
   "cell_type": "code",
   "execution_count": 19,
   "metadata": {},
   "outputs": [],
   "source": [
    "pop,fitness=optimization(all_geometry,10,6,0.15)"
   ]
  },
  {
   "cell_type": "code",
   "execution_count": 20,
   "metadata": {},
   "outputs": [],
   "source": [
    "index=fitness.index(min(fitness))"
   ]
  },
  {
   "cell_type": "code",
   "execution_count": 21,
   "metadata": {},
   "outputs": [
    {
     "data": {
      "text/plain": [
       "0"
      ]
     },
     "execution_count": 21,
     "metadata": {},
     "output_type": "execute_result"
    }
   ],
   "source": [
    "index"
   ]
  },
  {
   "cell_type": "code",
   "execution_count": 22,
   "metadata": {},
   "outputs": [
    {
     "data": {
      "text/plain": [
       "99999"
      ]
     },
     "execution_count": 22,
     "metadata": {},
     "output_type": "execute_result"
    }
   ],
   "source": [
    "fitness[index]"
   ]
  },
  {
   "cell_type": "code",
   "execution_count": 23,
   "metadata": {},
   "outputs": [
    {
     "data": {
      "text/plain": [
       "array([[3819, -143.61, 228.93],\n",
       "       [4179, -128.14, 175.28],\n",
       "       [4092, -538.77, 175.49],\n",
       "       [4092.5, -147.9, 447.28],\n",
       "       [4332, -129.68, 434.68],\n",
       "       [4092.5, -496.74, 443.08],\n",
       "       [4214.5, -531.77, 216.12],\n",
       "       [4245.5, -179.73, 229.96]], dtype=object)"
      ]
     },
     "execution_count": 23,
     "metadata": {},
     "output_type": "execute_result"
    }
   ],
   "source": [
    "pop[index]"
   ]
  },
  {
   "cell_type": "code",
   "execution_count": 24,
   "metadata": {},
   "outputs": [
    {
     "data": {
      "text/plain": [
       "[99999,\n",
       " 99999,\n",
       " 99999,\n",
       " 99999,\n",
       " 99999,\n",
       " 99999,\n",
       " 99999,\n",
       " 99999,\n",
       " 99999,\n",
       " 99999,\n",
       " 99999,\n",
       " 99999,\n",
       " 99999,\n",
       " 99999,\n",
       " 99999,\n",
       " 99999,\n",
       " 99999,\n",
       " 99999,\n",
       " 99999,\n",
       " 99999,\n",
       " 99999,\n",
       " 99999,\n",
       " 99999,\n",
       " 99999,\n",
       " 99999,\n",
       " 99999,\n",
       " 99999,\n",
       " 99999,\n",
       " 99999,\n",
       " 99999,\n",
       " 99999,\n",
       " 99999,\n",
       " 99999,\n",
       " 99999,\n",
       " 99999,\n",
       " 99999,\n",
       " 99999,\n",
       " 99999,\n",
       " 99999,\n",
       " 99999,\n",
       " 99999,\n",
       " 99999,\n",
       " 99999,\n",
       " 99999,\n",
       " 99999,\n",
       " 99999,\n",
       " 99999,\n",
       " 99999,\n",
       " 99999,\n",
       " 99999,\n",
       " 99999,\n",
       " 99999,\n",
       " 99999,\n",
       " 99999,\n",
       " 99999,\n",
       " 99999,\n",
       " 99999,\n",
       " 99999,\n",
       " 99999,\n",
       " 99999,\n",
       " 99999,\n",
       " 99999,\n",
       " 99999,\n",
       " 99999,\n",
       " 99999,\n",
       " 99999,\n",
       " 99999,\n",
       " 99999,\n",
       " 99999,\n",
       " 99999,\n",
       " 99999,\n",
       " 99999,\n",
       " 99999,\n",
       " 99999,\n",
       " 99999,\n",
       " 99999,\n",
       " 99999,\n",
       " 99999,\n",
       " 99999,\n",
       " 99999,\n",
       " 99999,\n",
       " 99999,\n",
       " 99999,\n",
       " 99999,\n",
       " 99999,\n",
       " 99999,\n",
       " 99999,\n",
       " 99999,\n",
       " 99999,\n",
       " 99999,\n",
       " 99999,\n",
       " 99999,\n",
       " 99999,\n",
       " 99999,\n",
       " 99999,\n",
       " 99999,\n",
       " 99999,\n",
       " 99999,\n",
       " 99999,\n",
       " 99999,\n",
       " 99999,\n",
       " 99999,\n",
       " 99999,\n",
       " 99999,\n",
       " 99999,\n",
       " 99999,\n",
       " 99999,\n",
       " 99999,\n",
       " 99999,\n",
       " 99999,\n",
       " 99999,\n",
       " 99999,\n",
       " 99999,\n",
       " 99999,\n",
       " 99999,\n",
       " 99999,\n",
       " 99999,\n",
       " 99999,\n",
       " 99999,\n",
       " 99999,\n",
       " 99999,\n",
       " 99999,\n",
       " 99999,\n",
       " 99999,\n",
       " 99999,\n",
       " 99999,\n",
       " 99999,\n",
       " 99999,\n",
       " 99999,\n",
       " 99999,\n",
       " 99999,\n",
       " 99999,\n",
       " 99999,\n",
       " 99999,\n",
       " 99999,\n",
       " 99999,\n",
       " 99999,\n",
       " 99999,\n",
       " 99999,\n",
       " 99999,\n",
       " 99999,\n",
       " 99999,\n",
       " 99999,\n",
       " 99999,\n",
       " 99999,\n",
       " 99999,\n",
       " 99999,\n",
       " 99999,\n",
       " 99999,\n",
       " 99999,\n",
       " 99999,\n",
       " 99999,\n",
       " 99999,\n",
       " 99999,\n",
       " 99999,\n",
       " 99999,\n",
       " 99999,\n",
       " 99999,\n",
       " 99999,\n",
       " 99999,\n",
       " 99999,\n",
       " 99999,\n",
       " 99999,\n",
       " 99999,\n",
       " 99999,\n",
       " 99999,\n",
       " 99999,\n",
       " 99999,\n",
       " 99999,\n",
       " 99999,\n",
       " 99999,\n",
       " 99999,\n",
       " 99999,\n",
       " 99999,\n",
       " 99999,\n",
       " 99999,\n",
       " 99999,\n",
       " 99999,\n",
       " 99999,\n",
       " 99999,\n",
       " 99999,\n",
       " 99999,\n",
       " 99999,\n",
       " 99999,\n",
       " 99999,\n",
       " 99999,\n",
       " 99999,\n",
       " 99999,\n",
       " 99999,\n",
       " 99999,\n",
       " 99999,\n",
       " 99999,\n",
       " 99999,\n",
       " 99999,\n",
       " 99999,\n",
       " 99999,\n",
       " 99999,\n",
       " 99999,\n",
       " 99999,\n",
       " 99999,\n",
       " 99999,\n",
       " 99999,\n",
       " 99999,\n",
       " 99999,\n",
       " 99999,\n",
       " 99999,\n",
       " 99999,\n",
       " 99999,\n",
       " 99999,\n",
       " 99999,\n",
       " 99999,\n",
       " 99999,\n",
       " 99999,\n",
       " 99999,\n",
       " 99999,\n",
       " 99999,\n",
       " 99999,\n",
       " 99999,\n",
       " 99999,\n",
       " 99999,\n",
       " 99999,\n",
       " 99999,\n",
       " 99999,\n",
       " 99999,\n",
       " 99999,\n",
       " 99999,\n",
       " 99999,\n",
       " 99999,\n",
       " 99999,\n",
       " 99999,\n",
       " 99999,\n",
       " 99999,\n",
       " 99999,\n",
       " 99999,\n",
       " 99999,\n",
       " 99999,\n",
       " 99999,\n",
       " 99999,\n",
       " 99999,\n",
       " 99999,\n",
       " 99999,\n",
       " 99999,\n",
       " 99999,\n",
       " 99999,\n",
       " 99999,\n",
       " 99999,\n",
       " 99999,\n",
       " 99999,\n",
       " 99999,\n",
       " 99999,\n",
       " 99999,\n",
       " 99999,\n",
       " 99999,\n",
       " 99999,\n",
       " 99999,\n",
       " 99999,\n",
       " 99999,\n",
       " 99999,\n",
       " 99999,\n",
       " 99999,\n",
       " 99999,\n",
       " 99999,\n",
       " 99999,\n",
       " 99999,\n",
       " 99999,\n",
       " 99999,\n",
       " 99999,\n",
       " 99999,\n",
       " 99999,\n",
       " 99999,\n",
       " 99999,\n",
       " 99999,\n",
       " 99999,\n",
       " 99999,\n",
       " 99999,\n",
       " 99999,\n",
       " 99999,\n",
       " 99999,\n",
       " 99999,\n",
       " 99999,\n",
       " 99999,\n",
       " 99999,\n",
       " 99999,\n",
       " 99999,\n",
       " 99999,\n",
       " 99999,\n",
       " 99999,\n",
       " 99999,\n",
       " 99999,\n",
       " 99999,\n",
       " 99999,\n",
       " 99999,\n",
       " 99999,\n",
       " 99999]"
      ]
     },
     "execution_count": 24,
     "metadata": {},
     "output_type": "execute_result"
    }
   ],
   "source": [
    "fitness"
   ]
  },
  {
   "cell_type": "code",
   "execution_count": 25,
   "metadata": {},
   "outputs": [],
   "source": [
    "valT = prepare_dataset(pop,model)"
   ]
  },
  {
   "cell_type": "code",
   "execution_count": 26,
   "metadata": {},
   "outputs": [
    {
     "data": {
      "text/plain": [
       "[array([[10.232421,  2.830523, 25.952757, -9.120455]], dtype=float32),\n",
       " array([[-0.23079108, -6.629354  , -2.0559406 ,  6.1220336 ]],\n",
       "       dtype=float32)]"
      ]
     },
     "execution_count": 26,
     "metadata": {},
     "output_type": "execute_result"
    }
   ],
   "source": [
    "valT[0]"
   ]
  },
  {
   "cell_type": "code",
   "execution_count": 27,
   "metadata": {},
   "outputs": [
    {
     "data": {
      "text/plain": [
       "array([[3819, -143.61, 228.93],\n",
       "       [4179, -128.14, 175.28],\n",
       "       [4092, -538.77, 175.49],\n",
       "       [4092.5, -147.9, 447.28],\n",
       "       [4332, -129.68, 434.68],\n",
       "       [4092.5, -496.74, 443.08],\n",
       "       [4214.5, -531.77, 216.12],\n",
       "       [4245.5, -179.73, 229.96]], dtype=object)"
      ]
     },
     "execution_count": 27,
     "metadata": {},
     "output_type": "execute_result"
    }
   ],
   "source": [
    "pop[0]"
   ]
  },
  {
   "cell_type": "code",
   "execution_count": 28,
   "metadata": {},
   "outputs": [
    {
     "ename": "NameError",
     "evalue": "name 'offspring' is not defined",
     "output_type": "error",
     "traceback": [
      "\u001b[1;31m---------------------------------------------------------------------------\u001b[0m",
      "\u001b[1;31mNameError\u001b[0m                                 Traceback (most recent call last)",
      "\u001b[1;32m<ipython-input-28-7a827a46d498>\u001b[0m in \u001b[0;36m<module>\u001b[1;34m()\u001b[0m\n\u001b[1;32m----> 1\u001b[1;33m \u001b[0moffspring\u001b[0m\u001b[1;33m\u001b[0m\u001b[0m\n\u001b[0m",
      "\u001b[1;31mNameError\u001b[0m: name 'offspring' is not defined"
     ]
    }
   ],
   "source": []
  },
  {
   "cell_type": "code",
   "execution_count": null,
   "metadata": {},
   "outputs": [],
   "source": []
  },
  {
   "cell_type": "code",
   "execution_count": null,
   "metadata": {},
   "outputs": [],
   "source": []
  }
 ],
 "metadata": {
  "kernelspec": {
   "display_name": "Python 3",
   "language": "python",
   "name": "python3"
  },
  "language_info": {
   "codemirror_mode": {
    "name": "ipython",
    "version": 3
   },
   "file_extension": ".py",
   "mimetype": "text/x-python",
   "name": "python",
   "nbconvert_exporter": "python",
   "pygments_lexer": "ipython3",
   "version": "3.6.5"
  }
 },
 "nbformat": 4,
 "nbformat_minor": 4
}
