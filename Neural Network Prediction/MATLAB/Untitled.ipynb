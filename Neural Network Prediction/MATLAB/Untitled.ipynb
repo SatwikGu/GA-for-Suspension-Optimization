{
 "cells": [
  {
   "cell_type": "code",
   "execution_count": 2,
   "metadata": {},
   "outputs": [
    {
     "ename": "ModuleNotFoundError",
     "evalue": "No module named 'matlab.engine'; 'matlab' is not a package",
     "output_type": "error",
     "traceback": [
      "\u001b[1;31m---------------------------------------------------------------------------\u001b[0m",
      "\u001b[1;31mModuleNotFoundError\u001b[0m                       Traceback (most recent call last)",
      "\u001b[1;32m<ipython-input-2-754f7d50ef2a>\u001b[0m in \u001b[0;36m<module>\u001b[1;34m\u001b[0m\n\u001b[1;32m----> 1\u001b[1;33m \u001b[1;32mimport\u001b[0m \u001b[0mmatlab\u001b[0m\u001b[1;33m.\u001b[0m\u001b[0mengine\u001b[0m\u001b[1;33m\u001b[0m\u001b[1;33m\u001b[0m\u001b[0m\n\u001b[0m",
      "\u001b[1;31mModuleNotFoundError\u001b[0m: No module named 'matlab.engine'; 'matlab' is not a package"
     ]
    }
   ],
   "source": [
    "import matlab.engine"
   ]
  },
  {
   "cell_type": "code",
   "execution_count": 1,
   "metadata": {},
   "outputs": [
    {
     "name": "stdout",
     "output_type": "stream",
     "text": [
      "Collecting matlab_kernel\n",
      "  Using cached matlab_kernel-0.16.11-py3-none-any.whl (9.1 kB)\n",
      "Collecting ipython>=4.0.0\n",
      "  Downloading ipython-7.23.1-py3-none-any.whl (785 kB)\n",
      "Collecting jupyter-client>=4.4.0\n",
      "  Downloading jupyter_client-6.1.12-py3-none-any.whl (112 kB)\n",
      "Collecting metakernel>=0.23.0\n",
      "  Using cached metakernel-0.27.5-py2.py3-none-any.whl (208 kB)\n",
      "Collecting jedi>=0.16\n",
      "  Downloading jedi-0.18.0-py2.py3-none-any.whl (1.4 MB)\n",
      "Collecting prompt-toolkit!=3.0.0,!=3.0.1,<3.1.0,>=2.0.0\n",
      "  Downloading prompt_toolkit-3.0.18-py3-none-any.whl (367 kB)\n",
      "Collecting matplotlib-inline\n",
      "  Downloading matplotlib_inline-0.1.2-py3-none-any.whl (8.2 kB)\n",
      "Collecting decorator\n",
      "  Downloading decorator-5.0.9-py3-none-any.whl (8.9 kB)\n",
      "Collecting colorama\n",
      "  Downloading colorama-0.4.4-py2.py3-none-any.whl (16 kB)\n",
      "Requirement already satisfied: setuptools>=18.5 in c:\\users\\satwi\\anaconda3\\envs\\cmdpy37\\lib\\site-packages (from ipython>=4.0.0->matlab_kernel) (52.0.0.post20210125)\n",
      "Collecting pickleshare\n",
      "  Using cached pickleshare-0.7.5-py2.py3-none-any.whl (6.9 kB)\n",
      "Collecting traitlets>=4.2\n",
      "  Downloading traitlets-5.0.5-py3-none-any.whl (100 kB)\n",
      "Collecting backcall\n",
      "  Using cached backcall-0.2.0-py2.py3-none-any.whl (11 kB)\n",
      "Collecting pygments\n",
      "  Downloading Pygments-2.9.0-py3-none-any.whl (1.0 MB)\n",
      "Collecting parso<0.9.0,>=0.8.0\n",
      "  Downloading parso-0.8.2-py2.py3-none-any.whl (94 kB)\n",
      "Collecting pyzmq>=13\n",
      "  Downloading pyzmq-22.0.3-cp37-cp37m-win_amd64.whl (1.2 MB)\n",
      "Requirement already satisfied: python-dateutil>=2.1 in c:\\users\\satwi\\anaconda3\\envs\\cmdpy37\\lib\\site-packages (from jupyter-client>=4.4.0->matlab_kernel) (2.8.1)\n",
      "Collecting jupyter-core>=4.6.0\n",
      "  Downloading jupyter_core-4.7.1-py3-none-any.whl (82 kB)\n",
      "Requirement already satisfied: tornado>=4.1 in c:\\users\\satwi\\anaconda3\\envs\\cmdpy37\\lib\\site-packages (from jupyter-client>=4.4.0->matlab_kernel) (6.1)\n",
      "Collecting pywin32>=1.0\n",
      "  Downloading pywin32-300-cp37-cp37m-win_amd64.whl (9.2 MB)\n",
      "Collecting ipykernel\n",
      "  Downloading ipykernel-5.5.5-py3-none-any.whl (120 kB)\n",
      "Collecting pexpect>=4.2\n",
      "  Downloading pexpect-4.8.0-py2.py3-none-any.whl (59 kB)\n",
      "Collecting ptyprocess>=0.5\n",
      "  Using cached ptyprocess-0.7.0-py2.py3-none-any.whl (13 kB)\n",
      "Collecting wcwidth\n",
      "  Using cached wcwidth-0.2.5-py2.py3-none-any.whl (30 kB)\n",
      "Requirement already satisfied: six>=1.5 in c:\\users\\satwi\\anaconda3\\envs\\cmdpy37\\lib\\site-packages (from python-dateutil>=2.1->jupyter-client>=4.4.0->matlab_kernel) (1.15.0)\n",
      "Collecting ipython-genutils\n",
      "  Using cached ipython_genutils-0.2.0-py2.py3-none-any.whl (26 kB)\n",
      "Installing collected packages: ipython-genutils, wcwidth, traitlets, pywin32, parso, pyzmq, pygments, prompt-toolkit, pickleshare, matplotlib-inline, jupyter-core, jedi, decorator, colorama, backcall, ptyprocess, jupyter-client, ipython, pexpect, ipykernel, metakernel, matlab-kernel\n",
      "Successfully installed backcall-0.2.0 colorama-0.4.4 decorator-5.0.9 ipykernel-5.5.5 ipython-7.23.1 ipython-genutils-0.2.0 jedi-0.18.0 jupyter-client-6.1.12 jupyter-core-4.7.1 matlab-kernel-0.16.11 matplotlib-inline-0.1.2 metakernel-0.27.5 parso-0.8.2 pexpect-4.8.0 pickleshare-0.7.5 prompt-toolkit-3.0.18 ptyprocess-0.7.0 pygments-2.9.0 pywin32-300 pyzmq-22.0.3 traitlets-5.0.5 wcwidth-0.2.5\n"
     ]
    }
   ],
   "source": [
    "!pip install matlab_kernel"
   ]
  },
  {
   "cell_type": "code",
   "execution_count": null,
   "metadata": {},
   "outputs": [],
   "source": []
  }
 ],
 "metadata": {
  "kernelspec": {
   "display_name": "Python 3",
   "language": "python",
   "name": "python3"
  },
  "language_info": {
   "codemirror_mode": {
    "name": "ipython",
    "version": 3
   },
   "file_extension": ".py",
   "mimetype": "text/x-python",
   "name": "python",
   "nbconvert_exporter": "python",
   "pygments_lexer": "ipython3",
   "version": "3.8.5"
  }
 },
 "nbformat": 4,
 "nbformat_minor": 4
}
