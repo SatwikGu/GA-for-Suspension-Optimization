{
 "cells": [
  {
   "cell_type": "code",
   "execution_count": 1,
   "metadata": {},
   "outputs": [],
   "source": [
    "import random\n",
    "import numpy as np\n",
    "import pandas as pd\n",
    "import math\n",
    "import matplotlib.pyplot as plt\n",
    "import os\n",
    "import keras\n",
    "import glob\n",
    "from sklearn.preprocessing import MinMaxScaler"
   ]
  },
  {
   "cell_type": "code",
   "execution_count": 2,
   "metadata": {},
   "outputs": [],
   "source": [
    "files=glob.glob(\"Population/*.xlsx\",recursive=True)\n",
    "population=[]\n",
    "for i in range(0, len(files)):\n",
    "    parent=pd.read_excel(files[i],header=None).values\n",
    "    population.append(parent)\n",
    "population=np.array(population,dtype=object)"
   ]
  },
  {
   "cell_type": "code",
   "execution_count": 3,
   "metadata": {},
   "outputs": [],
   "source": [
    "all_geometry = []\n",
    "all_results = []\n",
    "for i in range(0, population.shape[0]):\n",
    "    pop = pd.DataFrame(population[i])\n",
    "    pop = pop.drop(index=[20, 21], axis=0)\n",
    "    geometry = pop.iloc[14:22, 1:4].values\n",
    "    results = pop.iloc[82:96, 2:6].values\n",
    "    all_geometry.append(geometry)\n",
    "    all_results.append(results)\n",
    "all_geometry = np.array(all_geometry)\n",
    "all_results = np.array(all_results)"
   ]
  },
  {
   "cell_type": "code",
   "execution_count": 4,
   "metadata": {},
   "outputs": [
    {
     "data": {
      "text/plain": [
       "(38, 8, 3)"
      ]
     },
     "execution_count": 4,
     "metadata": {},
     "output_type": "execute_result"
    }
   ],
   "source": [
    "all_geometry.shape"
   ]
  },
  {
   "cell_type": "code",
   "execution_count": 5,
   "metadata": {},
   "outputs": [],
   "source": [
    "def fitness_function(pop,val):\n",
    "    fitness=[0]*pop.shape[0]\n",
    "\n",
    "    for i in range(pop.shape[0]):\n",
    "        \n",
    "        if (val[i][0][0][0]>=-2 and val[i][0][0][0]<=2) and (val[i][1][0][0]>=-2 and val[i][1][0][0]<=2):\n",
    "            camber_fitness=abs(val[i][1][0][0]-val[i][0][0][0])/5\n",
    "            fitness[i]+=camber_fitness\n",
    "        else:\n",
    "            fitness[i]=99999\n",
    "            continue\n",
    "            \n",
    "        if (val[i][0][0][1]>=-1 and val[i][0][0][1]<=1) and (val[i][1][0][1]>=-1 and val[i][1][0][1]<=1):\n",
    "            toe_fitness=abs(val[i][1][0][1]-val[i][0][0][1])/4\n",
    "            fitness[i]+=toe_fitness\n",
    "        else:\n",
    "            fitness[i]=99999\n",
    "            continue\n",
    "        \n",
    "        if (val[i][0][0][2]>=4 and val[i][0][0][2]<=9) and (val[i][1][0][2]>=4 and val[i][1][0][2]<=9):\n",
    "            fitness[i]+=abs(val[i][1][0][2]-val[i][0][0][2])/2\n",
    "        else:\n",
    "            fitness[i]=99999\n",
    "            continue\n",
    "            \n",
    "        if (val[i][0][0][3]>=3 and val[i][0][0][3]<=8) and (val[i][1][0][3]>=3 and val[i][1][0][3]<=8):\n",
    "            fitness[i]+=abs(val[i][1][0][3]-val[i][0][0][3])/2\n",
    "        else:\n",
    "            fitness[i]=99999\n",
    "            continue\n",
    "\n",
    "    return fitness"
   ]
  },
  {
   "cell_type": "code",
   "execution_count": 6,
   "metadata": {},
   "outputs": [],
   "source": [
    "#Use tournament selection"
   ]
  },
  {
   "cell_type": "code",
   "execution_count": 7,
   "metadata": {},
   "outputs": [],
   "source": [
    "def roulette_selection(population,no_parents,fitness):\n",
    "    # Roulette_wheel_selection \n",
    "    previous_prob=0\n",
    "    fitness=[1/(x+1e-4) for x in fitness]\n",
    "    prob_sel=[x/sum(fitness) for x in fitness]\n",
    "    prob=[]\n",
    "    parents=np.empty([no_parents,population.shape[1],population.shape[2]])\n",
    "    for i in range(len(prob_sel)):\n",
    "        previous_prob=previous_prob+prob_sel[i]\n",
    "        prob.append(previous_prob)\n",
    "    \n",
    "    for i in range(no_parents):\n",
    "        n=random.random()\n",
    "        for j in range(len(prob)):\n",
    "            if n<prob[j]:\n",
    "                parents[i]=population[j]\n",
    "                break\n",
    "        \n",
    "    return parents"
   ]
  },
  {
   "cell_type": "code",
   "execution_count": 8,
   "metadata": {},
   "outputs": [],
   "source": [
    "def sus_selection(population,no_parents,fitness):\n",
    "    pass"
   ]
  },
  {
   "cell_type": "code",
   "execution_count": 9,
   "metadata": {},
   "outputs": [],
   "source": [
    "def crossover(parent,no_offspring,alpha):\n",
    "    \n",
    "    offspring=np.empty([no_offspring,parent.shape[1],parent.shape[2]])\n",
    "    \n",
    "    for i in range(no_offspring):\n",
    "        parent1_index=i%parent.shape[0]\n",
    "        parent2_index=(i+1)%parent.shape[0]\n",
    "        n=random.random()\n",
    "        offspring[i]=n*parent[parent1_index]+(1-n)*parent[parent2_index]\n",
    "        \n",
    "    return offspring"
   ]
  },
  {
   "cell_type": "code",
   "execution_count": 10,
   "metadata": {},
   "outputs": [],
   "source": [
    "def mutation(offspring,mutation_rate):\n",
    "    \n",
    "    mutation=np.array(offspring,copy=True)\n",
    "        \n",
    "    for k in range(offspring.shape[0]):\n",
    "        m=random.random()\n",
    "        if m>mutation_rate:\n",
    "            continue\n",
    "            \n",
    "        for j in range(offspring.shape[1]):\n",
    "            for i in range(offspring.shape[2]):\n",
    "                sign=random.randint(0,1)\n",
    "                if sign==0:\n",
    "                    mutation[k][j][i]=mutation[k][j][i]+random.random()\n",
    "                else:\n",
    "                    mutation[k][j][i]=mutation[k][j][i]-random.random()\n",
    "\n",
    "    \n",
    "    return mutation"
   ]
  },
  {
   "cell_type": "code",
   "execution_count": 11,
   "metadata": {},
   "outputs": [],
   "source": [
    "def prepare_dataset(pop,model):\n",
    "    X_flat=pop.reshape((pop.shape[0], -1))\n",
    "    X=[]\n",
    "    X_final=[]\n",
    "    bump_val=[200,-60]\n",
    "        \n",
    "    for i in range(X_flat.shape[0]):\n",
    "        for j in range(len(bump_val)):\n",
    "            X.append(list(np.append(X_flat[i],bump_val[j])))\n",
    "        #X_final.append(X)\n",
    "        #X=[]\n",
    "            \n",
    "    X_final=np.array(X)\n",
    "        \n",
    "    train_df=pd.DataFrame(X_final)\n",
    "    scaler = MinMaxScaler(feature_range=(0,1))\n",
    "    scaled_train = scaler.fit_transform(train_df)\n",
    "    scaled_train_df = pd.DataFrame(scaled_train, columns=train_df.columns.values)\n",
    "        \n",
    "    val=[]\n",
    "    val_total=[]\n",
    "    X = scaled_train_df[scaled_train_df.columns[:25]].values\n",
    "    count=0\n",
    "    for i in range(X.shape[0]):\n",
    "        count+=1\n",
    "        val1=model.predict(X[i].reshape(1,X[i].shape[0]))\n",
    "        val.append(val1)\n",
    "        if count==2:\n",
    "            val_total.append(val)\n",
    "            val=[]\n",
    "            count=0\n",
    "    return val_total"
   ]
  },
  {
   "cell_type": "code",
   "execution_count": 12,
   "metadata": {},
   "outputs": [],
   "source": [
    "model=keras.models.load_model('GA_ANN_normal.h5')"
   ]
  },
  {
   "cell_type": "code",
   "execution_count": 13,
   "metadata": {},
   "outputs": [],
   "source": [
    "def optimization(pop,no_generation,no_parent,mutation_rate):\n",
    "    \n",
    "    for m in range(no_generation):\n",
    "\n",
    "        val_total=prepare_dataset(pop,model)\n",
    "        pop_size=38\n",
    "        no_offspring=pop_size-no_parent\n",
    "        fitness=fitness_function(pop,val_total)\n",
    "        parent=roulette_selection(pop,no_parent,fitness)\n",
    "        offspring=crossover(parent,no_offspring,0.7)\n",
    "        mutate=mutation(offspring,mutation_rate)\n",
    "        pop=np.concatenate((pop,mutate),axis=0)\n",
    "        \n",
    "    return pop,fitness"
   ]
  },
  {
   "cell_type": "code",
   "execution_count": 14,
   "metadata": {},
   "outputs": [],
   "source": [
    "pop,fitness=optimization(all_geometry,10,20,0.15)"
   ]
  },
  {
   "cell_type": "code",
   "execution_count": 15,
   "metadata": {},
   "outputs": [],
   "source": [
    "index=fitness.index(min(fitness))"
   ]
  },
  {
   "cell_type": "code",
   "execution_count": 16,
   "metadata": {},
   "outputs": [
    {
     "data": {
      "text/plain": [
       "147"
      ]
     },
     "execution_count": 16,
     "metadata": {},
     "output_type": "execute_result"
    }
   ],
   "source": [
    "index"
   ]
  },
  {
   "cell_type": "code",
   "execution_count": 17,
   "metadata": {},
   "outputs": [
    {
     "data": {
      "text/plain": [
       "0.05246609449386597"
      ]
     },
     "execution_count": 17,
     "metadata": {},
     "output_type": "execute_result"
    }
   ],
   "source": [
    "fitness[index]"
   ]
  },
  {
   "cell_type": "code",
   "execution_count": 18,
   "metadata": {},
   "outputs": [
    {
     "data": {
      "text/plain": [
       "array([[4018.300554743608, -179.84379137428357, 481.91433957545314],\n",
       "       [4258.9652516804, -179.86656855168275, 470.17913183241245],\n",
       "       [4081.7817402237415, -463.7585294382277, 255.64778159457353],\n",
       "       [4053.5486301975407, -185.24739028189856, 636.2128347799335],\n",
       "       [4312.389777170023, -185.08665834792663, 624.6731411626876],\n",
       "       [4098.51260162874, -453.6062406980627, 420.8965542074039],\n",
       "       [4032.899470921729, -489.4269810437343, 311.34758785257975],\n",
       "       [4046.074853072373, -215.43457180265625, 528.4166002056542]],\n",
       "      dtype=object)"
      ]
     },
     "execution_count": 18,
     "metadata": {},
     "output_type": "execute_result"
    }
   ],
   "source": [
    "pop[index]"
   ]
  },
  {
   "cell_type": "code",
   "execution_count": 19,
   "metadata": {},
   "outputs": [
    {
     "data": {
      "text/plain": [
       "[2.037292850017548,\n",
       " 2.36669340133667,\n",
       " 99999,\n",
       " 99999,\n",
       " 1.8504814863204957,\n",
       " 2.0061794400215147,\n",
       " 2.0290383219718935,\n",
       " 99999,\n",
       " 99999,\n",
       " 99999,\n",
       " 99999,\n",
       " 2.0947471618652345,\n",
       " 99999,\n",
       " 99999,\n",
       " 99999,\n",
       " 2.238597106933594,\n",
       " 99999,\n",
       " 99999,\n",
       " 2.1043797016143797,\n",
       " 0.4934451818466187,\n",
       " 0.3447071313858032,\n",
       " 0.35923142433166505,\n",
       " 0.4101912260055542,\n",
       " 0.24948527812957763,\n",
       " 0.583306348323822,\n",
       " 0.709930145740509,\n",
       " 99999,\n",
       " 2.037292850017548,\n",
       " 99999,\n",
       " 99999,\n",
       " 99999,\n",
       " 99999,\n",
       " 99999,\n",
       " 99999,\n",
       " 99999,\n",
       " 99999,\n",
       " 99999,\n",
       " 99999,\n",
       " 0.35100545883178713,\n",
       " 0.2321349024772644,\n",
       " 2.192221295833588,\n",
       " 1.7736334443092345,\n",
       " 0.3577946424484253,\n",
       " 0.2574598789215088,\n",
       " 1.0172239542007446,\n",
       " 0.30598959922790525,\n",
       " 0.24948527812957763,\n",
       " 0.4981070518493652,\n",
       " 1.8010058522224426,\n",
       " 0.40359083414077757,\n",
       " 0.4934451818466187,\n",
       " 0.4586704850196838,\n",
       " 0.36102622747421265,\n",
       " 0.35893008708953855,\n",
       " 0.2470657467842102,\n",
       " 0.34909322261810305,\n",
       " 0.5807246804237366,\n",
       " 0.8338032126426697,\n",
       " 0.549214243888855,\n",
       " 0.26178679466247556,\n",
       " 0.36883853673934935,\n",
       " 0.3536609411239624,\n",
       " 0.25485881567001345,\n",
       " 0.2470657467842102,\n",
       " 0.21563703641295434,\n",
       " 0.2212227463722229,\n",
       " 0.1934120774269104,\n",
       " 0.32555577754974363,\n",
       " 0.3345449209213257,\n",
       " 0.21419663429260255,\n",
       " 0.3515668511390686,\n",
       " 0.32769590616226196,\n",
       " 99999,\n",
       " 0.6813523530960083,\n",
       " 0.15186545848846436,\n",
       " 0.20577647686004638,\n",
       " 0.2173716902732849,\n",
       " 0.627661669254303,\n",
       " 0.28232752084732055,\n",
       " 0.22782145738601683,\n",
       " 0.22449281215667724,\n",
       " 0.33776930570602415,\n",
       " 0.32829813957214354,\n",
       " 0.3941166281700134,\n",
       " 0.3239784836769104,\n",
       " 0.17776730060577392,\n",
       " 0.3735860824584961,\n",
       " 0.22915124893188477,\n",
       " 0.3309813380241394,\n",
       " 0.25229328870773315,\n",
       " 0.1422091841697693,\n",
       " 0.35619096755981444,\n",
       " 0.6026462197303772,\n",
       " 0.33160669803619386,\n",
       " 0.4506263852119446,\n",
       " 0.3595616459846497,\n",
       " 0.2666119337081909,\n",
       " 0.37644392251968384,\n",
       " 0.3076940178871155,\n",
       " 0.2503958582878113,\n",
       " 0.26619848012924197,\n",
       " 0.28058902025222776,\n",
       " 0.5828243732452393,\n",
       " 0.495632016658783,\n",
       " 0.17622263431549073,\n",
       " 0.28620381355285646,\n",
       " 0.1559526205062866,\n",
       " 0.18673621416091918,\n",
       " 0.10320273637771607,\n",
       " 0.18450819253921508,\n",
       " 0.26294746398925783,\n",
       " 0.16641246899962425,\n",
       " 0.2876762986183167,\n",
       " 0.3487874507904053,\n",
       " 0.10371793508529663,\n",
       " 0.18230130672454833,\n",
       " 0.3479979753494263,\n",
       " 0.09739741086959838,\n",
       " 0.17356815338134765,\n",
       " 0.3312961578369141,\n",
       " 0.22569245100021362,\n",
       " 0.2019248127937317,\n",
       " 0.1259291410446167,\n",
       " 0.11633917093276977,\n",
       " 0.2470657467842102,\n",
       " 0.23088665828108787,\n",
       " 0.3155826926231384,\n",
       " 0.3447523832321167,\n",
       " 0.1777903199195862,\n",
       " 0.38213917016983034,\n",
       " 0.10602538585662842,\n",
       " 0.09807902574539185,\n",
       " 0.2727197207510471,\n",
       " 0.34925419092178345,\n",
       " 0.21612298488616943,\n",
       " 0.11452609300613403,\n",
       " 0.2334356427192688,\n",
       " 0.1865027867257595,\n",
       " 0.276964008808136,\n",
       " 0.2792165756225586,\n",
       " 0.11269073486328125,\n",
       " 0.27577254772186277,\n",
       " 0.290506649017334,\n",
       " 0.21666455268859863,\n",
       " 0.40986387729644774,\n",
       " 0.41189061030745505,\n",
       " 99999,\n",
       " 0.05246609449386597,\n",
       " 0.23500691652297973,\n",
       " 1.1888880968093871,\n",
       " 0.29430059194564817,\n",
       " 0.310478663444519,\n",
       " 0.18701266050338744,\n",
       " 1.1430827021598815,\n",
       " 0.11065444126725196,\n",
       " 0.1802153468132019,\n",
       " 0.19938188791275024,\n",
       " 0.21426197290420532,\n",
       " 0.44333391189575194,\n",
       " 0.18408007621765138,\n",
       " 0.15700527429580688,\n",
       " 0.19156556129455565,\n",
       " 0.1416706085205078,\n",
       " 99999,\n",
       " 0.33891992568969725,\n",
       " 0.24922382831573486,\n",
       " 0.08898918628692627,\n",
       " 0.08634203672409058,\n",
       " 0.17683136835694313,\n",
       " 0.42165096998214724,\n",
       " 0.24061229228973388,\n",
       " 0.2169926404953003,\n",
       " 0.2190738081932068,\n",
       " 0.9928780198097229,\n",
       " 0.19156941995024682,\n",
       " 0.24353380203247071,\n",
       " 0.22995481491088868,\n",
       " 0.21832522973418236,\n",
       " 0.2567293643951416,\n",
       " 0.21294628381729125,\n",
       " 0.20082851648330688,\n",
       " 0.12808157578110696,\n",
       " 0.2641475833952427,\n",
       " 0.2863267339766026,\n",
       " 0.08575148582458496,\n",
       " 0.18484734296798705,\n",
       " 0.07116302251815795,\n",
       " 0.07280302047729492,\n",
       " 0.2013106308877468,\n",
       " 0.15495903119444848,\n",
       " 0.058961796760559085,\n",
       " 0.16866750717163087,\n",
       " 0.33349802494049074,\n",
       " 0.3801159143447876,\n",
       " 0.14102377891540527,\n",
       " 0.05817575454711914,\n",
       " 0.2067460298538208,\n",
       " 0.31986175775527953,\n",
       " 0.2736194372177124,\n",
       " 0.20833687782287597]"
      ]
     },
     "execution_count": 19,
     "metadata": {},
     "output_type": "execute_result"
    }
   ],
   "source": [
    "fitness"
   ]
  }
 ],
 "metadata": {
  "kernelspec": {
   "display_name": "Python 3",
   "language": "python",
   "name": "python3"
  },
  "language_info": {
   "codemirror_mode": {
    "name": "ipython",
    "version": 3
   },
   "file_extension": ".py",
   "mimetype": "text/x-python",
   "name": "python",
   "nbconvert_exporter": "python",
   "pygments_lexer": "ipython3",
   "version": "3.8.5"
  }
 },
 "nbformat": 4,
 "nbformat_minor": 4
}
