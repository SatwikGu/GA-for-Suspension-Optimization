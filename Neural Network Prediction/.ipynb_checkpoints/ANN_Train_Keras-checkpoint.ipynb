{
 "cells": [
  {
   "cell_type": "code",
   "execution_count": 9,
   "metadata": {},
   "outputs": [],
   "source": [
    "import glob \n",
    "import random\n",
    "import numpy as np\n",
    "import pandas as pd\n",
    "import math\n",
    "import os\n",
    "from sklearn.model_selection import train_test_split\n",
    "from keras.models import Sequential\n",
    "from keras.layers import Dense"
   ]
  },
  {
   "cell_type": "code",
   "execution_count": 10,
   "metadata": {},
   "outputs": [],
   "source": [
    "files=glob.glob(\"data/*.xlsx\",recursive=True)\n",
    "population=[]\n",
    "for i in range(0, len(files)):\n",
    "    parent=pd.read_excel(files[i],header=None).values\n",
    "    population.append(parent)\n",
    "population=np.array(population,dtype=object)"
   ]
  },
  {
   "cell_type": "code",
   "execution_count": 11,
   "metadata": {},
   "outputs": [
    {
     "data": {
      "text/plain": [
       "array([], dtype=object)"
      ]
     },
     "execution_count": 11,
     "metadata": {},
     "output_type": "execute_result"
    }
   ],
   "source": [
    "population"
   ]
  },
  {
   "cell_type": "code",
   "execution_count": 3,
   "metadata": {
    "tags": []
   },
   "outputs": [],
   "source": [
    "all_geometry = []\n",
    "all_results = []\n",
    "for i in range(0, len(population)):\n",
    "    pop = pd.DataFrame(population[i])\n",
    "    pop = pop.drop(index=[20, 21], axis=0)\n",
    "    geometry = pop.iloc[14:22, 1:4].values\n",
    "    results = pop.iloc[82:96, 2:6].values\n",
    "    all_geometry.append(geometry)\n",
    "    all_results.append(results)\n",
    "all_geometry = np.array(all_geometry)\n",
    "all_results = np.array(all_results)"
   ]
  },
  {
   "cell_type": "code",
   "execution_count": 7,
   "metadata": {},
   "outputs": [
    {
     "data": {
      "text/plain": [
       "array([], dtype=float64)"
      ]
     },
     "execution_count": 7,
     "metadata": {},
     "output_type": "execute_result"
    }
   ],
   "source": [
    "all_geometry"
   ]
  },
  {
   "cell_type": "code",
   "execution_count": 4,
   "metadata": {},
   "outputs": [],
   "source": [
    "output=np.empty(shape=[all_results.shape[0],4])\n",
    "for i in range(all_results.shape[0]):\n",
    "    output[i,0]=max(all_results[i,:,0])\n",
    "    output[i,1]=min(all_results[i,:,0])\n",
    "    output[i,2]=max(all_results[i,:,1])\n",
    "    output[i,3]=min(all_results[i,:,1])"
   ]
  },
  {
   "cell_type": "code",
   "execution_count": 5,
   "metadata": {},
   "outputs": [
    {
     "ename": "ValueError",
     "evalue": "cannot reshape array of size 0 into shape (0)",
     "output_type": "error",
     "traceback": [
      "\u001b[0;31m---------------------------------------------------------------------------\u001b[0m",
      "\u001b[0;31mValueError\u001b[0m                                Traceback (most recent call last)",
      "\u001b[0;32m<ipython-input-5-b6b49270cead>\u001b[0m in \u001b[0;36m<module>\u001b[0;34m\u001b[0m\n\u001b[0;32m----> 1\u001b[0;31m \u001b[0mX\u001b[0m\u001b[0;34m=\u001b[0m\u001b[0mall_geometry\u001b[0m\u001b[0;34m.\u001b[0m\u001b[0mreshape\u001b[0m\u001b[0;34m(\u001b[0m\u001b[0;34m(\u001b[0m\u001b[0;34m-\u001b[0m\u001b[0;36m1\u001b[0m\u001b[0;34m,\u001b[0m\u001b[0mall_geometry\u001b[0m\u001b[0;34m.\u001b[0m\u001b[0mshape\u001b[0m\u001b[0;34m[\u001b[0m\u001b[0;36m0\u001b[0m\u001b[0;34m]\u001b[0m\u001b[0;34m)\u001b[0m\u001b[0;34m)\u001b[0m\u001b[0;34m.\u001b[0m\u001b[0mT\u001b[0m\u001b[0;34m\u001b[0m\u001b[0;34m\u001b[0m\u001b[0m\n\u001b[0m\u001b[1;32m      2\u001b[0m \u001b[0mY\u001b[0m\u001b[0;34m=\u001b[0m\u001b[0moutput\u001b[0m\u001b[0;34m\u001b[0m\u001b[0;34m\u001b[0m\u001b[0m\n\u001b[1;32m      3\u001b[0m \u001b[0mX\u001b[0m\u001b[0;34m=\u001b[0m\u001b[0mX\u001b[0m\u001b[0;34m.\u001b[0m\u001b[0mastype\u001b[0m\u001b[0;34m(\u001b[0m\u001b[0;34m'float32'\u001b[0m\u001b[0;34m)\u001b[0m\u001b[0;34m\u001b[0m\u001b[0;34m\u001b[0m\u001b[0m\n\u001b[1;32m      4\u001b[0m \u001b[0mY\u001b[0m\u001b[0;34m=\u001b[0m\u001b[0mY\u001b[0m\u001b[0;34m.\u001b[0m\u001b[0mastype\u001b[0m\u001b[0;34m(\u001b[0m\u001b[0;34m'float32'\u001b[0m\u001b[0;34m)\u001b[0m\u001b[0;34m\u001b[0m\u001b[0;34m\u001b[0m\u001b[0m\n\u001b[1;32m      5\u001b[0m \u001b[0;31m##norm_X=np.linalg.norm(X)\u001b[0m\u001b[0;34m\u001b[0m\u001b[0;34m\u001b[0m\u001b[0;34m\u001b[0m\u001b[0m\n",
      "\u001b[0;31mValueError\u001b[0m: cannot reshape array of size 0 into shape (0)"
     ]
    }
   ],
   "source": [
    "X=all_geometry.reshape((-1,all_geometry.shape[0])).T\n",
    "Y=output\n",
    "X=X.astype('float32')\n",
    "Y=Y.astype('float32')\n",
    "##norm_X=np.linalg.norm(X)\n",
    "##X=X/norm_X\n",
    "##norm_Y=np.linalg.norm(Y)\n",
    "##Y=Y/norm_Y"
   ]
  },
  {
   "cell_type": "code",
   "execution_count": null,
   "metadata": {},
   "outputs": [],
   "source": [
    "X_train,X_test,y_train,y_test=train_test_split(X,Y,test_size=0.1)"
   ]
  },
  {
   "cell_type": "code",
   "execution_count": null,
   "metadata": {},
   "outputs": [],
   "source": [
    "model=Sequential()\n",
    "model.add(Dense(12, input_dim=24, activation='relu'))\n",
    "model.add(Dense(10, activation='relu'))\n",
    "model.add(Dense(7, activation='relu'))\n",
    "model.add(Dense(9, activation='relu'))\n",
    "model.add(Dense(4, activation='softmax'))"
   ]
  },
  {
   "cell_type": "code",
   "execution_count": null,
   "metadata": {},
   "outputs": [],
   "source": [
    "model.compile(loss='mean_squared_error', optimizer='adam', metrics=['accuracy'])"
   ]
  },
  {
   "cell_type": "code",
   "execution_count": null,
   "metadata": {},
   "outputs": [],
   "source": [
    "model.fit(X_train, y_train, epochs=2000, batch_size=5)"
   ]
  },
  {
   "cell_type": "code",
   "execution_count": 6,
   "metadata": {},
   "outputs": [
    {
     "ename": "NameError",
     "evalue": "name 'model' is not defined",
     "output_type": "error",
     "traceback": [
      "\u001b[0;31m---------------------------------------------------------------------------\u001b[0m",
      "\u001b[0;31mNameError\u001b[0m                                 Traceback (most recent call last)",
      "\u001b[0;32m<ipython-input-6-1dcf4767e3a7>\u001b[0m in \u001b[0;36m<module>\u001b[0;34m\u001b[0m\n\u001b[0;32m----> 1\u001b[0;31m \u001b[0my_train_pred\u001b[0m\u001b[0;34m=\u001b[0m\u001b[0mmodel\u001b[0m\u001b[0;34m.\u001b[0m\u001b[0mpredict\u001b[0m\u001b[0;34m(\u001b[0m\u001b[0mX_train\u001b[0m\u001b[0;34m)\u001b[0m\u001b[0;34m\u001b[0m\u001b[0;34m\u001b[0m\u001b[0m\n\u001b[0m",
      "\u001b[0;31mNameError\u001b[0m: name 'model' is not defined"
     ]
    }
   ],
   "source": [
    "y_train_pred=model.predict(X_train)"
   ]
  },
  {
   "cell_type": "code",
   "execution_count": 11,
   "metadata": {},
   "outputs": [
    {
     "data": {
      "text/plain": [
       "array([[1.0000000e+00, 0.0000000e+00, 0.0000000e+00, 0.0000000e+00],\n",
       "       [1.0000000e+00, 0.0000000e+00, 0.0000000e+00, 0.0000000e+00],\n",
       "       [0.0000000e+00, 1.0000000e+00, 0.0000000e+00, 0.0000000e+00],\n",
       "       [1.0000000e+00, 1.6699390e-37, 0.0000000e+00, 0.0000000e+00],\n",
       "       [1.0000000e+00, 0.0000000e+00, 0.0000000e+00, 0.0000000e+00],\n",
       "       [0.0000000e+00, 1.0000000e+00, 0.0000000e+00, 0.0000000e+00],\n",
       "       [1.0000000e+00, 9.9047209e-36, 0.0000000e+00, 0.0000000e+00],\n",
       "       [1.0000000e+00, 3.9853607e-18, 0.0000000e+00, 0.0000000e+00],\n",
       "       [1.0000000e+00, 5.0315276e-28, 0.0000000e+00, 0.0000000e+00],\n",
       "       [0.0000000e+00, 1.0000000e+00, 0.0000000e+00, 0.0000000e+00],\n",
       "       [1.0000000e+00, 1.5798579e-18, 0.0000000e+00, 0.0000000e+00],\n",
       "       [1.0000000e+00, 0.0000000e+00, 0.0000000e+00, 0.0000000e+00],\n",
       "       [0.0000000e+00, 1.0000000e+00, 0.0000000e+00, 0.0000000e+00],\n",
       "       [0.0000000e+00, 1.0000000e+00, 0.0000000e+00, 0.0000000e+00],\n",
       "       [0.0000000e+00, 1.0000000e+00, 0.0000000e+00, 0.0000000e+00],\n",
       "       [1.0000000e+00, 2.9026644e-28, 0.0000000e+00, 0.0000000e+00],\n",
       "       [1.0000000e+00, 3.4990891e-37, 0.0000000e+00, 0.0000000e+00],\n",
       "       [1.0000000e+00, 2.2592870e-28, 0.0000000e+00, 0.0000000e+00],\n",
       "       [0.0000000e+00, 1.0000000e+00, 0.0000000e+00, 0.0000000e+00],\n",
       "       [0.0000000e+00, 1.0000000e+00, 0.0000000e+00, 0.0000000e+00],\n",
       "       [1.0000000e+00, 1.7235467e-22, 0.0000000e+00, 0.0000000e+00],\n",
       "       [2.4548194e-13, 1.0000000e+00, 0.0000000e+00, 0.0000000e+00],\n",
       "       [1.0000000e+00, 4.5575638e-38, 0.0000000e+00, 0.0000000e+00],\n",
       "       [0.0000000e+00, 1.0000000e+00, 0.0000000e+00, 0.0000000e+00],\n",
       "       [1.0000000e+00, 1.6224673e-37, 0.0000000e+00, 0.0000000e+00],\n",
       "       [1.0000000e+00, 7.4853540e-35, 0.0000000e+00, 0.0000000e+00],\n",
       "       [1.0000000e+00, 5.2224348e-26, 0.0000000e+00, 0.0000000e+00],\n",
       "       [0.0000000e+00, 1.0000000e+00, 0.0000000e+00, 0.0000000e+00],\n",
       "       [1.0000000e+00, 0.0000000e+00, 0.0000000e+00, 0.0000000e+00],\n",
       "       [1.0000000e+00, 1.6795758e-19, 0.0000000e+00, 0.0000000e+00],\n",
       "       [0.0000000e+00, 1.0000000e+00, 0.0000000e+00, 0.0000000e+00],\n",
       "       [1.0000000e+00, 5.3051335e-29, 0.0000000e+00, 0.0000000e+00],\n",
       "       [1.0000000e+00, 0.0000000e+00, 0.0000000e+00, 0.0000000e+00],\n",
       "       [1.0000000e+00, 1.4127031e-37, 0.0000000e+00, 0.0000000e+00]],\n",
       "      dtype=float32)"
      ]
     },
     "execution_count": 11,
     "metadata": {},
     "output_type": "execute_result"
    }
   ],
   "source": [
    "y_train_pred"
   ]
  },
  {
   "cell_type": "code",
   "execution_count": 16,
   "metadata": {},
   "outputs": [
    {
     "data": {
      "text/plain": [
       "array([[ 1.00400e-01, -8.57900e-01,  7.92000e-02, -4.91300e-01],\n",
       "       [ 1.88790e+00, -3.10370e+00,  7.49090e+00, -6.46790e+00],\n",
       "       [ 6.30100e-01, -1.94740e+00,  1.84930e+00, -2.00470e+00],\n",
       "       [ 2.86000e-02, -1.09210e+00,  3.14980e+00, -1.17440e+00],\n",
       "       [ 5.50000e-03, -8.48900e-01,  4.66830e+00, -1.42200e-01],\n",
       "       [ 4.11000e-02, -8.38000e-01,  5.52300e-01, -3.50100e-01],\n",
       "       [ 3.97000e-02, -1.95920e+00,  2.54800e-01, -1.25000e+00],\n",
       "       [ 9.85000e-02, -8.53500e-01,  5.82000e-02, -6.32800e-01],\n",
       "       [ 1.08900e-01, -1.82970e+00,  4.02030e+00, -2.58000e-02],\n",
       "       [ 1.63100e-01, -8.81300e-01,  6.55500e-01, -7.63200e-01],\n",
       "       [ 5.31000e-02, -7.67400e-01,  7.27000e-02, -5.33500e-01],\n",
       "       [ 5.43100e-01, -1.19660e+00,  8.70090e+00, -3.08400e-01],\n",
       "       [ 9.22000e-02, -6.88700e-01,  9.33600e-01, -3.14000e-02],\n",
       "       [ 4.06660e+00, -3.82680e+00,  1.20752e+01, -8.36320e+00],\n",
       "       [ 5.19000e-02, -7.80200e-01,  9.41900e-01, -1.06730e+00],\n",
       "       [ 9.60000e-03, -1.10490e+00,  1.27400e-01, -2.68800e-01],\n",
       "       [ 1.44000e-02, -1.06190e+00,  7.54500e-01, -6.83500e-01],\n",
       "       [ 3.04000e-02, -2.03190e+00,  1.57370e+00, -3.82140e+00],\n",
       "       [ 1.55600e-01, -1.47480e+00,  2.07700e+00, -1.37990e+00],\n",
       "       [ 0.00000e+00, -1.25240e+00,  8.34400e-01, -8.84900e-01],\n",
       "       [ 5.40000e-03, -1.41640e+00,  1.26120e+00, -1.90960e+00],\n",
       "       [ 4.07000e-02, -8.47200e-01,  5.46400e-01, -4.15000e-01],\n",
       "       [ 0.00000e+00, -1.24930e+00,  3.70940e+00, -1.56000e+00],\n",
       "       [ 2.61000e-02, -1.02120e+00,  4.44490e+00, -2.74500e-01],\n",
       "       [ 1.78223e+01, -5.01670e+00,  1.73629e+01, -4.89543e+01],\n",
       "       [ 1.03600e-01, -8.66300e-01,  1.25000e-01, -3.66600e-01],\n",
       "       [ 3.21530e+00, -2.42480e+00,  1.17361e+01, -8.89080e+00],\n",
       "       [ 9.76000e-02, -6.82300e-01,  7.29740e+00, -1.93400e-01],\n",
       "       [ 0.00000e+00, -8.29300e-01,  3.43300e+00, -1.38320e+00],\n",
       "       [ 3.03400e-01, -2.52600e+00,  4.93140e+00, -4.08060e+00],\n",
       "       [ 1.51000e-02, -1.06230e+00,  6.66200e-01, -6.86600e-01],\n",
       "       [ 0.00000e+00, -1.68220e+00,  4.79940e+01, -7.21960e+01],\n",
       "       [ 2.80000e-03, -1.16360e+00,  5.60000e-01, -7.07000e-01],\n",
       "       [ 0.00000e+00, -8.29300e-01,  3.43300e+00, -1.38320e+00]],\n",
       "      dtype=float32)"
      ]
     },
     "execution_count": 16,
     "metadata": {},
     "output_type": "execute_result"
    }
   ],
   "source": [
    "y_train"
   ]
  },
  {
   "cell_type": "code",
   "execution_count": 16,
   "metadata": {},
   "outputs": [
    {
     "data": {
      "text/plain": [
       "array([[ 4.91764687e-04, -7.10697193e-03,  6.73282309e-04,\n",
       "        -4.94079944e-03],\n",
       "       [ 1.39842683e-04, -9.83807165e-03,  6.16974803e-03,\n",
       "        -6.35867473e-03],\n",
       "       [ 1.44102785e-03, -1.36582777e-02,  1.92353129e-02,\n",
       "        -1.27793988e-02],\n",
       "       [ 4.80651332e-04, -7.22551392e-03,  8.72303452e-03,\n",
       "        -9.88437701e-03],\n",
       "       [ 3.77390021e-03, -3.82465087e-02,  3.60386632e-02,\n",
       "        -8.33119750e-02],\n",
       "       [ 8.53873906e-04, -6.37812307e-03,  8.64616781e-03,\n",
       "        -2.90798693e-04],\n",
       "       [ 2.97772307e-02, -2.24563256e-02,  1.08689256e-01,\n",
       "        -8.23386386e-02],\n",
       "       [ 5.09360761e-05, -7.86175206e-03,  4.32336181e-02,\n",
       "        -1.31692900e-03],\n",
       "       [ 3.80631391e-04, -7.76080601e-03,  5.11490786e-03,\n",
       "        -3.24231293e-03],\n",
       "       [ 5.00099668e-05, -1.31174289e-02,  1.16801048e-02,\n",
       "        -1.76850054e-02],\n",
       "       [ 5.02970582e-03, -1.10818380e-02,  8.05799514e-02,\n",
       "        -2.85612489e-03],\n",
       "       [ 2.59310928e-05, -1.07762218e-02,  5.18621877e-03,\n",
       "        -6.54760143e-03],\n",
       "       [ 0.00000000e+00, -7.68023403e-03,  3.17915194e-02,\n",
       "        -1.28108859e-02],\n",
       "       [ 0.00000000e+00, -1.15698986e-02,  3.43531407e-02,\n",
       "        -1.44473230e-02],\n",
       "       [ 9.03883833e-04, -6.31885137e-03,  6.75819889e-02,\n",
       "        -1.79109769e-03],\n",
       "       [ 3.67665867e-04, -1.81443561e-02,  2.35972949e-03,\n",
       "        -1.15763806e-02],\n",
       "       [ 1.39842683e-04, -9.83807165e-03,  6.16974803e-03,\n",
       "        -6.35867473e-03],\n",
       "       [ 0.00000000e+00, -7.68023403e-03,  3.17933746e-02,\n",
       "        -1.28099611e-02],\n",
       "       [ 2.41714835e-04, -9.45744012e-03,  4.11646850e-02,\n",
       "        -2.54217349e-03],\n",
       "       [ 0.00000000e+00, -1.15986085e-02,  7.72746606e-03,\n",
       "        -8.19515157e-03],\n",
       "       [ 1.92630978e-04, -9.44077037e-03,  5.65853529e-03,\n",
       "        -5.71595412e-03],\n",
       "       [ 0.00000000e+00, -7.68023403e-03,  3.17933746e-02,\n",
       "        -1.28099611e-02],\n",
       "       [ 1.65054187e-01, -4.64601815e-02,  1.60799637e-01,\n",
       "        -4.53370899e-01],\n",
       "       [ 3.76612060e-02, -3.54403965e-02,  1.11829691e-01,\n",
       "        -7.74524733e-02],\n",
       "       [ 1.00853434e-03, -1.69450436e-02,  3.72324176e-02,\n",
       "        -2.38936511e-04],\n",
       "       [ 5.83542231e-03, -1.80350747e-02,  1.71265621e-02,\n",
       "        -1.85657367e-02]], dtype=float32)"
      ]
     },
     "execution_count": 16,
     "metadata": {},
     "output_type": "execute_result"
    }
   ],
   "source": []
  },
  {
   "cell_type": "code",
   "execution_count": 10,
   "metadata": {},
   "outputs": [],
   "source": [
    "import h5py"
   ]
  },
  {
   "cell_type": "code",
   "execution_count": 11,
   "metadata": {},
   "outputs": [],
   "source": [
    "dataset=h5py.File(\"suspension.h5\",'w')"
   ]
  },
  {
   "cell_type": "code",
   "execution_count": null,
   "metadata": {},
   "outputs": [],
   "source": []
  }
 ],
 "metadata": {
  "kernelspec": {
   "display_name": "Python 3",
   "language": "python",
   "name": "python3"
  },
  "language_info": {
   "codemirror_mode": {
    "name": "ipython",
    "version": 3
   },
   "file_extension": ".py",
   "mimetype": "text/x-python",
   "name": "python",
   "nbconvert_exporter": "python",
   "pygments_lexer": "ipython3",
   "version": "3.8.5"
  }
 },
 "nbformat": 4,
 "nbformat_minor": 4
}
