{
 "cells": [
  {
   "cell_type": "code",
   "execution_count": 1,
   "metadata": {},
   "outputs": [],
   "source": [
    "import random\n",
    "import numpy as np\n",
    "import pandas as pd\n",
    "import math\n",
    "import matplotlib.pyplot as plt\n",
    "import os\n",
    "import keras\n",
    "import glob\n",
    "from sklearn.preprocessing import MinMaxScaler"
   ]
  },
  {
   "cell_type": "code",
   "execution_count": 2,
   "metadata": {},
   "outputs": [],
   "source": [
    "files=glob.glob(\"Population/*.xlsx\",recursive=True)\n",
    "population=[]\n",
    "for i in range(0, len(files)):\n",
    "    parent=pd.read_excel(files[i],header=None).values\n",
    "    population.append(parent)\n",
    "population=np.array(population,dtype=object)"
   ]
  },
  {
   "cell_type": "code",
   "execution_count": 3,
   "metadata": {},
   "outputs": [],
   "source": [
    "all_geometry = []\n",
    "all_results = []\n",
    "for i in range(0, population.shape[0]):\n",
    "    pop = pd.DataFrame(population[i])\n",
    "    pop = pop.drop(index=[20, 21], axis=0)\n",
    "    geometry = pop.iloc[14:22, 1:4].values\n",
    "    results = pop.iloc[82:96, 2:6].values\n",
    "    all_geometry.append(geometry)\n",
    "    all_results.append(results)\n",
    "all_geometry = np.array(all_geometry)\n",
    "all_results = np.array(all_results)"
   ]
  },
  {
   "cell_type": "code",
   "execution_count": 4,
   "metadata": {},
   "outputs": [
    {
     "data": {
      "text/plain": [
       "(38, 8, 3)"
      ]
     },
     "execution_count": 4,
     "metadata": {},
     "output_type": "execute_result"
    }
   ],
   "source": [
    "all_geometry.shape"
   ]
  },
  {
   "cell_type": "code",
   "execution_count": 5,
   "metadata": {},
   "outputs": [],
   "source": [
    "def fitness_function(pop,val):\n",
    "    fitness=[0]*pop.shape[0]\n",
    "\n",
    "    for i in range(pop.shape[0]):\n",
    "        \n",
    "        if (val[i][0][0][0]>=-2 and val[i][0][0][0]<=2) and (val[i][1][0][0]>=-2 and val[i][1][0][0]<=2):\n",
    "            camber_fitness=2*(5-(abs(val[i][1][0][0]-val[i][0][0][0])))\n",
    "            fitness[i]+=camber_fitness\n",
    "        else:\n",
    "            fitness[i]=0\n",
    "            continue\n",
    "            \n",
    "        if (val[i][0][0][1]>=-1 and val[i][0][0][1]<=1) and (val[i][1][0][1]>=-1 and val[i][1][0][1]<=1):\n",
    "            toe_fitness=3*(4-abs(val[i][1][0][1]-val[i][0][0][1]))\n",
    "            fitness[i]+=toe_fitness\n",
    "        else:\n",
    "            fitness[i]=0\n",
    "            continue\n",
    "        \n",
    "        if (val[i][0][0][2]>=4 and val[i][0][0][2]<=9) and (val[i][1][0][2]>=4 and val[i][1][0][2]<=9):\n",
    "            fitness[i]+=0.5\n",
    "        else:\n",
    "            fitness[i]=0\n",
    "            continue\n",
    "            \n",
    "        if (val[i][0][0][3]>=3 and val[i][0][0][3]<=8) and (val[i][1][0][3]>=3 and val[i][1][0][3]<=8):\n",
    "            fitness[i]+=0.5\n",
    "        else:\n",
    "            fitness[i]=0\n",
    "            continue\n",
    "\n",
    "    return fitness"
   ]
  },
  {
   "cell_type": "code",
   "execution_count": 6,
   "metadata": {},
   "outputs": [],
   "source": [
    "#Use tournament selection"
   ]
  },
  {
   "cell_type": "code",
   "execution_count": 7,
   "metadata": {},
   "outputs": [],
   "source": [
    "def roulette_selection(population,no_parents,fitness):\n",
    "    # Roulette_wheel_selection \n",
    "    previous_prob=0\n",
    "    prob_sel=[x/(sum(fitness)+1e-4) for x in fitness]\n",
    "    prob=[]\n",
    "    parents=np.empty([no_parents,population.shape[1],population.shape[2]])\n",
    "    for i in range(len(prob_sel)):\n",
    "        previous_prob=previous_prob+prob_sel[i]\n",
    "        prob.append(previous_prob)\n",
    "    \n",
    "    for i in range(no_parents):\n",
    "        n=random.random()\n",
    "        for j in range(len(prob)):\n",
    "            if n<prob[j]:\n",
    "                parents[i]=population[j]\n",
    "                break\n",
    "        \n",
    "    return parents"
   ]
  },
  {
   "cell_type": "code",
   "execution_count": 8,
   "metadata": {},
   "outputs": [],
   "source": [
    "def sus_selection(population,no_parents,fitness):\n",
    "    pass"
   ]
  },
  {
   "cell_type": "code",
   "execution_count": 9,
   "metadata": {},
   "outputs": [],
   "source": [
    "def crossover(parent,no_offspring,alpha):\n",
    "    \n",
    "    offspring=np.empty([no_offspring,parent.shape[1],parent.shape[2]])\n",
    "    \n",
    "    for i in range(no_offspring):\n",
    "        parent1_index=i%parent.shape[0]\n",
    "        parent2_index=(i+1)%parent.shape[0]\n",
    "        n=random.random()\n",
    "        offspring[i]=n*parent[parent1_index]+(1-n)*parent[parent2_index]\n",
    "        \n",
    "    return offspring"
   ]
  },
  {
   "cell_type": "code",
   "execution_count": 10,
   "metadata": {},
   "outputs": [],
   "source": [
    "def mutation(offspring,mutation_rate):\n",
    "    \n",
    "    mutation=np.array(offspring,copy=True)\n",
    "        \n",
    "    for k in range(offspring.shape[0]):\n",
    "        m=random.random()\n",
    "        if m>mutation_rate:\n",
    "            continue\n",
    "            \n",
    "        for j in range(offspring.shape[1]):\n",
    "            for i in range(offspring.shape[2]):\n",
    "                sign=random.randint(0,1)\n",
    "                if sign==0:\n",
    "                    mutation[k][j][i]=mutation[k][j][i]+random.random()\n",
    "                else:\n",
    "                    mutation[k][j][i]=mutation[k][j][i]-random.random()\n",
    "\n",
    "    \n",
    "    return mutation"
   ]
  },
  {
   "cell_type": "code",
   "execution_count": 11,
   "metadata": {},
   "outputs": [],
   "source": [
    "model=keras.models.load_model('GA_ANN_normal.h5')"
   ]
  },
  {
   "cell_type": "code",
   "execution_count": 12,
   "metadata": {},
   "outputs": [],
   "source": [
    "def optimization(pop,no_generation,no_parent,mutation_rate):\n",
    "    bump_val=[200,-60]\n",
    "    for m in range(no_generation):\n",
    "        X_flat=pop.reshape((pop.shape[0], -1))\n",
    "        X=[]\n",
    "        X_final=[]\n",
    "        bump_val=[200,-60]\n",
    "        \n",
    "        for i in range(X_flat.shape[0]):\n",
    "            for j in range(len(bump_val)):\n",
    "                X.append(list(np.append(X_flat[i],bump_val[j])))\n",
    "            #X_final.append(X)\n",
    "            #X=[]\n",
    "            \n",
    "        X_final=np.array(X)\n",
    "        \n",
    "        train_df=pd.DataFrame(X_final)\n",
    "        scaler = MinMaxScaler(feature_range=(0,1))\n",
    "        scaled_train = scaler.fit_transform(train_df)\n",
    "        scaled_train_df = pd.DataFrame(scaled_train, columns=train_df.columns.values)\n",
    "        \n",
    "        val=[]\n",
    "        val_total=[]\n",
    "        X = scaled_train_df[scaled_train_df.columns[:25]].values\n",
    "        count=0\n",
    "        for i in range(X.shape[0]):\n",
    "            count+=1\n",
    "            val1=model.predict(X[i].reshape(1,X[i].shape[0]))\n",
    "            val.append(val1)\n",
    "            if count==2:\n",
    "                val_total.append(val)\n",
    "                val=[]\n",
    "                count=0\n",
    "\n",
    "        pop_size=38\n",
    "        no_offspring=pop_size-no_parent\n",
    "        fitness=fitness_function(pop,val_total)\n",
    "        parent=roulette_selection(pop,no_parent,fitness)\n",
    "        offspring=crossover(parent,no_offspring,0.7)\n",
    "        mutate=mutation(offspring,mutation_rate)\n",
    "        pop=np.concatenate((pop,mutate),axis=0)\n",
    "        \n",
    "    return pop,fitness"
   ]
  },
  {
   "cell_type": "code",
   "execution_count": 13,
   "metadata": {},
   "outputs": [],
   "source": [
    "pop,fitness=optimization(all_geometry,10,20,0.15)"
   ]
  },
  {
   "cell_type": "code",
   "execution_count": 14,
   "metadata": {},
   "outputs": [],
   "source": [
    "index=fitness.index(max(fitness))"
   ]
  },
  {
   "cell_type": "code",
   "execution_count": 15,
   "metadata": {},
   "outputs": [
    {
     "data": {
      "text/plain": [
       "22.733918264508247"
      ]
     },
     "execution_count": 15,
     "metadata": {},
     "output_type": "execute_result"
    }
   ],
   "source": [
    "fitness[index]"
   ]
  },
  {
   "cell_type": "code",
   "execution_count": 17,
   "metadata": {},
   "outputs": [
    {
     "data": {
      "text/plain": [
       "array([[3976.855703724458, -180.1730421849427, 484.7899214609392],\n",
       "       [4246.757845005744, -180.60425003544282, 467.03321253575245],\n",
       "       [4081.6186732343476, -463.7081089321664, 255.0247544677274],\n",
       "       [4063.2001696007947, -184.5262206928788, 635.4508342314095],\n",
       "       [4312.179219011305, -185.2500446328654, 617.7238288772722],\n",
       "       [4098.2963650176835, -454.129353937412, 419.31419455788205],\n",
       "       [4031.615107687502, -489.9408601363439, 310.47904227223336],\n",
       "       [4049.5346046676373, -214.28299743515922, 527.5228548590215]],\n",
       "      dtype=object)"
      ]
     },
     "execution_count": 17,
     "metadata": {},
     "output_type": "execute_result"
    }
   ],
   "source": [
    "pop[index]"
   ]
  },
  {
   "cell_type": "code",
   "execution_count": 20,
   "metadata": {},
   "outputs": [
    {
     "data": {
      "text/plain": [
       "156"
      ]
     },
     "execution_count": 20,
     "metadata": {},
     "output_type": "execute_result"
    }
   ],
   "source": [
    "index"
   ]
  },
  {
   "cell_type": "code",
   "execution_count": null,
   "metadata": {},
   "outputs": [],
   "source": []
  }
 ],
 "metadata": {
  "kernelspec": {
   "display_name": "Python 3",
   "language": "python",
   "name": "python3"
  },
  "language_info": {
   "codemirror_mode": {
    "name": "ipython",
    "version": 3
   },
   "file_extension": ".py",
   "mimetype": "text/x-python",
   "name": "python",
   "nbconvert_exporter": "python",
   "pygments_lexer": "ipython3",
   "version": "3.8.5"
  }
 },
 "nbformat": 4,
 "nbformat_minor": 4
}
